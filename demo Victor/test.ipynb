{
 "cells": [
  {
   "cell_type": "code",
   "execution_count": 108,
   "metadata": {},
   "outputs": [],
   "source": [
    "import pandas as pd\n",
    "import numpy as np\n",
    "\n",
    "import os\n",
    "import pickle\n",
    "import json"
   ]
  },
  {
   "cell_type": "code",
   "execution_count": 70,
   "metadata": {},
   "outputs": [],
   "source": [
    "path = os.path.join(\"..\", \"data\", \"users_df.pickle\")\n",
    "with open(path, \"rb\") as archivo:\n",
    "    gran_df = pickle.load(archivo)"
   ]
  },
  {
   "cell_type": "code",
   "execution_count": 114,
   "metadata": {},
   "outputs": [],
   "source": [
    "# MyAnimeList\n",
    "path = os.path.join(\"..\", \"data\", \"MAL_dataframe.csv\")\n",
    "MAL_df = pd.read_csv(path)\n",
    "\n",
    "# AnimePlanet\n",
    "path = os.path.join(\"..\", \"data\", \"tags_anime.csv\")\n",
    "AP_df = pd.read_csv(path)\n",
    "\n",
    "path = os.path.join(\"..\", \"Ayuda Externa\", \"anime-offline-database.json\")\n",
    "with open(path, \"r\", encoding=\"utf-8\") as archivo:\n",
    "    anime_offline_database = json.load(archivo)"
   ]
  },
  {
   "cell_type": "code",
   "execution_count": 193,
   "metadata": {},
   "outputs": [
    {
     "data": {
      "text/plain": [
       "8978"
      ]
     },
     "execution_count": 193,
     "metadata": {},
     "output_type": "execute_result"
    }
   ],
   "source": [
    "len(MAL_df)"
   ]
  },
  {
   "cell_type": "code",
   "execution_count": 145,
   "metadata": {},
   "outputs": [
    {
     "data": {
      "text/plain": [
       "False"
      ]
     },
     "execution_count": 145,
     "metadata": {},
     "output_type": "execute_result"
    }
   ],
   "source": [
    "123921 in ids_usables"
   ]
  },
  {
   "cell_type": "code",
   "execution_count": 164,
   "metadata": {},
   "outputs": [
    {
     "data": {
      "text/plain": [
       "True"
      ]
     },
     "execution_count": 164,
     "metadata": {},
     "output_type": "execute_result"
    }
   ],
   "source": [
    "ids_usables = (MAL_df[\"id\"])\n",
    "1 in ids_usables"
   ]
  },
  {
   "cell_type": "code",
   "execution_count": 167,
   "metadata": {},
   "outputs": [
    {
     "data": {
      "text/plain": [
       "1"
      ]
     },
     "execution_count": 167,
     "metadata": {},
     "output_type": "execute_result"
    }
   ],
   "source": [
    "MAL_df[\"id\"].min()"
   ]
  },
  {
   "cell_type": "code",
   "execution_count": 191,
   "metadata": {},
   "outputs": [
    {
     "data": {
      "text/html": [
       "<div>\n",
       "<style scoped>\n",
       "    .dataframe tbody tr th:only-of-type {\n",
       "        vertical-align: middle;\n",
       "    }\n",
       "\n",
       "    .dataframe tbody tr th {\n",
       "        vertical-align: top;\n",
       "    }\n",
       "\n",
       "    .dataframe thead th {\n",
       "        text-align: right;\n",
       "    }\n",
       "</style>\n",
       "<table border=\"1\" class=\"dataframe\">\n",
       "  <thead>\n",
       "    <tr style=\"text-align: right;\">\n",
       "      <th></th>\n",
       "      <th>Anime</th>\n",
       "      <th>URL</th>\n",
       "      <th>Tags</th>\n",
       "      <th>Alts</th>\n",
       "      <th>id</th>\n",
       "    </tr>\n",
       "  </thead>\n",
       "  <tbody>\n",
       "    <tr>\n",
       "      <th>17150</th>\n",
       "      <td>Chiaki Kuriyama: \"0\"</td>\n",
       "      <td>https://www.anime-planet.com/anime/chiaki-kuri...</td>\n",
       "      <td>[]</td>\n",
       "      <td>NaN</td>\n",
       "      <td>20707</td>\n",
       "    </tr>\n",
       "    <tr>\n",
       "      <th>8488</th>\n",
       "      <td>\"Bungaku Shoujo\" Kyou no Oyatsu: Hatsukoi</td>\n",
       "      <td>https://www.anime-planet.com/anime/bungaku-sho...</td>\n",
       "      <td>['Romance', 'Library', 'School Life', 'Based o...</td>\n",
       "      <td>NaN</td>\n",
       "      <td>7669</td>\n",
       "    </tr>\n",
       "    <tr>\n",
       "      <th>3380</th>\n",
       "      <td>\"Bungaku Shoujo\" Memoire</td>\n",
       "      <td>https://www.anime-planet.com/anime/bungaku-sho...</td>\n",
       "      <td>['Drama', 'Romance', 'Episodic', 'School Life'...</td>\n",
       "      <td>NaN</td>\n",
       "      <td>8481</td>\n",
       "    </tr>\n",
       "    <tr>\n",
       "      <th>2719</th>\n",
       "      <td>\"Bungaku Shoujo\" Movie</td>\n",
       "      <td>https://www.anime-planet.com/anime/bungaku-sho...</td>\n",
       "      <td>['Drama', 'Mystery', 'Romance', 'School Club',...</td>\n",
       "      <td>NaN</td>\n",
       "      <td>6408</td>\n",
       "    </tr>\n",
       "    <tr>\n",
       "      <th>15484</th>\n",
       "      <td>\"Eiji\"</td>\n",
       "      <td>https://www.anime-planet.com/anime/eiji</td>\n",
       "      <td>['Shounen', 'Sports', 'Boxing', 'Hand to Hand ...</td>\n",
       "      <td>NaN</td>\n",
       "      <td>6076</td>\n",
       "    </tr>\n",
       "    <tr>\n",
       "      <th>...</th>\n",
       "      <td>...</td>\n",
       "      <td>...</td>\n",
       "      <td>...</td>\n",
       "      <td>...</td>\n",
       "      <td>...</td>\n",
       "    </tr>\n",
       "    <tr>\n",
       "      <th>5064</th>\n",
       "      <td>Crystal Sky of Yesterday</td>\n",
       "      <td>https://www.anime-planet.com/anime/crystal-sky...</td>\n",
       "      <td>['Drama', 'Romance', 'Chinese Animation', 'Com...</td>\n",
       "      <td>\\r\\nAlt title: Zuori Qing Kong\\r\\n</td>\n",
       "      <td>37207</td>\n",
       "    </tr>\n",
       "    <tr>\n",
       "      <th>5320</th>\n",
       "      <td>Meychan: Zurui Maboroshi</td>\n",
       "      <td>https://www.anime-planet.com/anime/meychan-zur...</td>\n",
       "      <td>[]</td>\n",
       "      <td>NaN</td>\n",
       "      <td>52512</td>\n",
       "    </tr>\n",
       "    <tr>\n",
       "      <th>3018</th>\n",
       "      <td>I've Always Liked You</td>\n",
       "      <td>https://www.anime-planet.com/anime/ive-always-...</td>\n",
       "      <td>['Drama', 'Romance', 'Based on a Song', 'Child...</td>\n",
       "      <td>\\r\\nAlt title: Zutto Mae Kara Suki deshita. Ko...</td>\n",
       "      <td>31245</td>\n",
       "    </tr>\n",
       "    <tr>\n",
       "      <th>2836</th>\n",
       "      <td>I've Always Liked You Special</td>\n",
       "      <td>https://www.anime-planet.com/anime/ive-always-...</td>\n",
       "      <td>['Romance', 'Based on a Song', 'Love Confessio...</td>\n",
       "      <td>\\r\\nAlt title: Zutto Mae Kara Suki deshita: Ko...</td>\n",
       "      <td>36305</td>\n",
       "    </tr>\n",
       "    <tr>\n",
       "      <th>15696</th>\n",
       "      <td>ēlDLIVE</td>\n",
       "      <td>https://www.anime-planet.com/anime/eldlive</td>\n",
       "      <td>['Action', 'Comedy', 'Sci Fi', 'Shounen', 'Ali...</td>\n",
       "      <td>NaN</td>\n",
       "      <td>32878</td>\n",
       "    </tr>\n",
       "  </tbody>\n",
       "</table>\n",
       "<p>8772 rows × 5 columns</p>\n",
       "</div>"
      ],
      "text/plain": [
       "                                           Anime  \\\n",
       "17150                       Chiaki Kuriyama: \"0\"   \n",
       "8488   \"Bungaku Shoujo\" Kyou no Oyatsu: Hatsukoi   \n",
       "3380                    \"Bungaku Shoujo\" Memoire   \n",
       "2719                      \"Bungaku Shoujo\" Movie   \n",
       "15484                                     \"Eiji\"   \n",
       "...                                          ...   \n",
       "5064                    Crystal Sky of Yesterday   \n",
       "5320                    Meychan: Zurui Maboroshi   \n",
       "3018                       I've Always Liked You   \n",
       "2836               I've Always Liked You Special   \n",
       "15696                                    ēlDLIVE   \n",
       "\n",
       "                                                     URL  \\\n",
       "17150  https://www.anime-planet.com/anime/chiaki-kuri...   \n",
       "8488   https://www.anime-planet.com/anime/bungaku-sho...   \n",
       "3380   https://www.anime-planet.com/anime/bungaku-sho...   \n",
       "2719   https://www.anime-planet.com/anime/bungaku-sho...   \n",
       "15484            https://www.anime-planet.com/anime/eiji   \n",
       "...                                                  ...   \n",
       "5064   https://www.anime-planet.com/anime/crystal-sky...   \n",
       "5320   https://www.anime-planet.com/anime/meychan-zur...   \n",
       "3018   https://www.anime-planet.com/anime/ive-always-...   \n",
       "2836   https://www.anime-planet.com/anime/ive-always-...   \n",
       "15696         https://www.anime-planet.com/anime/eldlive   \n",
       "\n",
       "                                                    Tags  \\\n",
       "17150                                                 []   \n",
       "8488   ['Romance', 'Library', 'School Life', 'Based o...   \n",
       "3380   ['Drama', 'Romance', 'Episodic', 'School Life'...   \n",
       "2719   ['Drama', 'Mystery', 'Romance', 'School Club',...   \n",
       "15484  ['Shounen', 'Sports', 'Boxing', 'Hand to Hand ...   \n",
       "...                                                  ...   \n",
       "5064   ['Drama', 'Romance', 'Chinese Animation', 'Com...   \n",
       "5320                                                  []   \n",
       "3018   ['Drama', 'Romance', 'Based on a Song', 'Child...   \n",
       "2836   ['Romance', 'Based on a Song', 'Love Confessio...   \n",
       "15696  ['Action', 'Comedy', 'Sci Fi', 'Shounen', 'Ali...   \n",
       "\n",
       "                                                    Alts     id  \n",
       "17150                                                NaN  20707  \n",
       "8488                                                 NaN   7669  \n",
       "3380                                                 NaN   8481  \n",
       "2719                                                 NaN   6408  \n",
       "15484                                                NaN   6076  \n",
       "...                                                  ...    ...  \n",
       "5064                  \\r\\nAlt title: Zuori Qing Kong\\r\\n  37207  \n",
       "5320                                                 NaN  52512  \n",
       "3018   \\r\\nAlt title: Zutto Mae Kara Suki deshita. Ko...  31245  \n",
       "2836   \\r\\nAlt title: Zutto Mae Kara Suki deshita: Ko...  36305  \n",
       "15696                                                NaN  32878  \n",
       "\n",
       "[8772 rows x 5 columns]"
      ]
     },
     "execution_count": 191,
     "metadata": {},
     "output_type": "execute_result"
    }
   ],
   "source": [
    "unified_df = pd.DataFrame()\n",
    "for anime in anime_offline_database[\"data\"]:\n",
    "    sources = [x.replace(\"https://\", \"\") for x in anime[\"sources\"]]\n",
    "    # Un diccionario con el id del resultado de MyAnimeList y el url del resultado de AnimePlanet\n",
    "    MAL_AP = {x.split(\"/\")[0]: x.split(\"/\")[2] for x in sources if (\"anime-planet.com\" in x) or (\"myanimelist.net\" in x)}\n",
    "    # -1 Nunca esta en ids_usables\n",
    "    mal_id = int(MAL_AP.get(\"myanimelist.net\", \"-1\"))\n",
    "    ap_get = MAL_AP.get(\"anime-planet.com\", False)\n",
    "    if ap_get and (mal_id != -1):\n",
    "\n",
    "        ap_url = AP_df[AP_df[\"URL\"] == f\"https://www.anime-planet.com/anime/{ap_get}\"]\n",
    "        ap_url[\"id\"] = mal_id\n",
    "        unified_df = pd.concat([unified_df, ap_url], axis=0)\n",
    "unified_df = unified_df[unified_df[\"id\"].isin(ids_usables)]\n",
    "\n",
    "unified_df"
   ]
  },
  {
   "cell_type": "code",
   "execution_count": 194,
   "metadata": {},
   "outputs": [],
   "source": [
    "path = os.path.join(\"..\", \"data\", \"unified_df.csv\")\n",
    "unified_df.to_csv(path, index=False)"
   ]
  },
  {
   "cell_type": "code",
   "execution_count": null,
   "metadata": {},
   "outputs": [],
   "source": []
  }
 ],
 "metadata": {
  "kernelspec": {
   "display_name": "Python 3",
   "language": "python",
   "name": "python3"
  },
  "language_info": {
   "codemirror_mode": {
    "name": "ipython",
    "version": 3
   },
   "file_extension": ".py",
   "mimetype": "text/x-python",
   "name": "python",
   "nbconvert_exporter": "python",
   "pygments_lexer": "ipython3",
   "version": "3.10.11"
  }
 },
 "nbformat": 4,
 "nbformat_minor": 2
}
