{
 "cells": [
  {
   "cell_type": "code",
   "execution_count": 32,
   "metadata": {},
   "outputs": [],
   "source": [
    "import pandas as pd\n",
    "import requests\n",
    "import numpy as np\n",
    "import json\n",
    "from bs4 import BeautifulSoup as bs\n",
    "import random\n",
    "import time\n",
    "import json\n",
    "import pickle\n",
    "\n",
    "from os.path import join\n",
    "from itertools import islice"
   ]
  },
  {
   "cell_type": "code",
   "execution_count": 33,
   "metadata": {},
   "outputs": [],
   "source": [
    "def extraer_animes(animes: set, head, parametros):\n",
    "    \"\"\"\n",
    "    animes debe ser un set con todos los ids de los animes que se quieran extraer.\n",
    "\n",
    "    Es recomendado guardar el output en pickles para ser compacto en el espacio.\n",
    "    \"\"\"\n",
    "    detalles_anime = {}\n",
    "    for anime in animes:\n",
    "        time.sleep(3)\n",
    "        detalles_anime[anime] = {}\n",
    "\n",
    "        while True:\n",
    "            try:\n",
    "                response = requests.get(\n",
    "                    url=f'https://api.myanimelist.net/v2/anime/{anime}',\n",
    "                    headers=head,\n",
    "                    params=parametros\n",
    "                )\n",
    "\n",
    "                # Manejar errores / Status codes.\n",
    "                if response.status_code == 429: # Demasiadas peticiones\n",
    "                    print(\"Demasiadas peticiones\")\n",
    "                    time.sleep(120)\n",
    "                    continue\n",
    "                elif response.status_code == 403: # prohibido.\n",
    "                    print(\"prohibido\")\n",
    "                    time.sleep(120)\n",
    "                    continue\n",
    "                elif response.status_code == 404: # No se encontro el anime.\n",
    "                    print(\"perdido\")\n",
    "                    break\n",
    "                elif (response.status_code // 100) == 5: # Error en el servidor.\n",
    "                    print(response.status_code)\n",
    "                    print(response.json())\n",
    "                    print(anime)\n",
    "                    time.sleep(120)\n",
    "                    continue\n",
    "                elif response.status_code != 200: # Error desconocido\n",
    "                    print(response.status_code)\n",
    "                    print(response.json())\n",
    "                    print(anime)\n",
    "                    time.sleep(120)\n",
    "                    continue\n",
    "                detalles_anime[anime][\"detalles\"] = response.json()\n",
    "                break\n",
    "            except KeyboardInterrupt: # Usuario saltado por algun error etc.\n",
    "                print(\"anime saltado\")\n",
    "                print(response.status_code)\n",
    "                print(response.json())\n",
    "                print(anime)\n",
    "                break\n",
    "            except ConnectionError:\n",
    "                print(\"Error de internet\")\n",
    "                print(anime)\n",
    "                time.sleep(300)\n",
    "                continue\n",
    "    # Estas listas idealmente deben ser guardadas en pickle para usar eficientemente el espacio.\n",
    "    return detalles_anime"
   ]
  },
  {
   "cell_type": "code",
   "execution_count": 34,
   "metadata": {},
   "outputs": [
    {
     "data": {
      "text/plain": [
       "8978"
      ]
     },
     "execution_count": 34,
     "metadata": {},
     "output_type": "execute_result"
    }
   ],
   "source": [
    "animes_unicos = set()\n",
    "\n",
    "for i in range(1, 21):\n",
    "    path = join(\"data\", f\"listas_usuarios_{i}.pickle\")\n",
    "    with open(path, \"rb\") as archivo:\n",
    "        listas = pickle.load(archivo)\n",
    "    for user_id, value in listas.items():\n",
    "        name = value.pop(\"nombre\")\n",
    "        tipo = value.pop(\"tipo\")\n",
    "        if tipo != \"publica\":\n",
    "            continue\n",
    "        value = {x[0] for x in value.items() if (x[1][1] == 2) and (x[1][0] > 0)}\n",
    "        if len(value) == 0:\n",
    "            continue\n",
    "        animes_unicos = animes_unicos.union(value)\n",
    "len(animes_unicos)"
   ]
  },
  {
   "cell_type": "code",
   "execution_count": 8,
   "metadata": {},
   "outputs": [],
   "source": [
    "url_headers = {\n",
    "    \"accept\": \"application/json\",\n",
    "    \"X-MAL-CLIENT-ID\": \"dba80244ba88ffa1c4914806e9ccb3e4\"\n",
    "}\n",
    "\n",
    "animedetail_params = {\n",
    "    \"fields\": \"title,alternative_titles,start_date,end_date,synopsis,mean,rank,popularity,num_list_users,num_scoring_users,media_type,status,num_episodes,start_season,studios\",\n",
    "}"
   ]
  },
  {
   "cell_type": "code",
   "execution_count": 35,
   "metadata": {},
   "outputs": [
    {
     "ename": "KeyboardInterrupt",
     "evalue": "",
     "output_type": "error",
     "traceback": [
      "\u001b[1;31m---------------------------------------------------------------------------\u001b[0m",
      "\u001b[1;31mKeyboardInterrupt\u001b[0m                         Traceback (most recent call last)",
      "\u001b[1;32me:\\Github\\datos\\Proyecto-Grupo-12\\demo Victor\\NombresAnime.ipynb Cell 5\u001b[0m line \u001b[0;36m5\n\u001b[0;32m      <a href='vscode-notebook-cell:/e%3A/Github/datos/Proyecto-Grupo-12/demo%20Victor/NombresAnime.ipynb#X21sZmlsZQ%3D%3D?line=2'>3</a>\u001b[0m \u001b[39mfor\u001b[39;00m i \u001b[39min\u001b[39;00m \u001b[39mrange\u001b[39m(\u001b[39m1\u001b[39m, \u001b[39m21\u001b[39m):\n\u001b[0;32m      <a href='vscode-notebook-cell:/e%3A/Github/datos/Proyecto-Grupo-12/demo%20Victor/NombresAnime.ipynb#X21sZmlsZQ%3D%3D?line=3'>4</a>\u001b[0m     conj \u001b[39m=\u001b[39m \u001b[39mset\u001b[39m(islice(animes_unicos, ((i\u001b[39m-\u001b[39m\u001b[39m1\u001b[39m)\u001b[39m*\u001b[39mcantidad)\u001b[39m/\u001b[39m\u001b[39m/\u001b[39m\u001b[39m20\u001b[39m, (i\u001b[39m*\u001b[39mcantidad)\u001b[39m/\u001b[39m\u001b[39m/\u001b[39m\u001b[39m20\u001b[39m))\n\u001b[1;32m----> <a href='vscode-notebook-cell:/e%3A/Github/datos/Proyecto-Grupo-12/demo%20Victor/NombresAnime.ipynb#X21sZmlsZQ%3D%3D?line=4'>5</a>\u001b[0m     resultado \u001b[39m=\u001b[39m extraer_animes(conj, url_headers, animedetail_params)\n\u001b[0;32m      <a href='vscode-notebook-cell:/e%3A/Github/datos/Proyecto-Grupo-12/demo%20Victor/NombresAnime.ipynb#X21sZmlsZQ%3D%3D?line=6'>7</a>\u001b[0m     path \u001b[39m=\u001b[39m join(\u001b[39m\"\u001b[39m\u001b[39mdata\u001b[39m\u001b[39m\"\u001b[39m, \u001b[39mf\u001b[39m\u001b[39m\"\u001b[39m\u001b[39mdetalles_anime_\u001b[39m\u001b[39m{\u001b[39;00mi\u001b[39m}\u001b[39;00m\u001b[39m.pickle\u001b[39m\u001b[39m\"\u001b[39m)\n\u001b[0;32m      <a href='vscode-notebook-cell:/e%3A/Github/datos/Proyecto-Grupo-12/demo%20Victor/NombresAnime.ipynb#X21sZmlsZQ%3D%3D?line=7'>8</a>\u001b[0m     \u001b[39mwith\u001b[39;00m \u001b[39mopen\u001b[39m(path, \u001b[39m\"\u001b[39m\u001b[39mwb\u001b[39m\u001b[39m\"\u001b[39m) \u001b[39mas\u001b[39;00m archivo:\n",
      "\u001b[1;32me:\\Github\\datos\\Proyecto-Grupo-12\\demo Victor\\NombresAnime.ipynb Cell 5\u001b[0m line \u001b[0;36m9\n\u001b[0;32m      <a href='vscode-notebook-cell:/e%3A/Github/datos/Proyecto-Grupo-12/demo%20Victor/NombresAnime.ipynb#X21sZmlsZQ%3D%3D?line=6'>7</a>\u001b[0m detalles_anime \u001b[39m=\u001b[39m {}\n\u001b[0;32m      <a href='vscode-notebook-cell:/e%3A/Github/datos/Proyecto-Grupo-12/demo%20Victor/NombresAnime.ipynb#X21sZmlsZQ%3D%3D?line=7'>8</a>\u001b[0m \u001b[39mfor\u001b[39;00m anime \u001b[39min\u001b[39;00m animes:\n\u001b[1;32m----> <a href='vscode-notebook-cell:/e%3A/Github/datos/Proyecto-Grupo-12/demo%20Victor/NombresAnime.ipynb#X21sZmlsZQ%3D%3D?line=8'>9</a>\u001b[0m     time\u001b[39m.\u001b[39;49msleep(\u001b[39m3\u001b[39;49m)\n\u001b[0;32m     <a href='vscode-notebook-cell:/e%3A/Github/datos/Proyecto-Grupo-12/demo%20Victor/NombresAnime.ipynb#X21sZmlsZQ%3D%3D?line=9'>10</a>\u001b[0m     detalles_anime[anime] \u001b[39m=\u001b[39m {}\n\u001b[0;32m     <a href='vscode-notebook-cell:/e%3A/Github/datos/Proyecto-Grupo-12/demo%20Victor/NombresAnime.ipynb#X21sZmlsZQ%3D%3D?line=11'>12</a>\u001b[0m     \u001b[39mwhile\u001b[39;00m \u001b[39mTrue\u001b[39;00m:\n",
      "\u001b[1;31mKeyboardInterrupt\u001b[0m: "
     ]
    }
   ],
   "source": [
    "cantidad = len(animes_unicos)\n",
    "\n",
    "for i in range(1, 21):\n",
    "    conj = set(islice(animes_unicos, ((i-1)*cantidad)//20, (i*cantidad)//20))\n",
    "    resultado = extraer_animes(conj, url_headers, animedetail_params)\n",
    "\n",
    "    path = join(\"data\", f\"detalles_anime_{i}.pickle\")\n",
    "    with open(path, \"wb\") as archivo:\n",
    "        pickle.dump(resultado, archivo)"
   ]
  },
  {
   "cell_type": "code",
   "execution_count": null,
   "metadata": {},
   "outputs": [],
   "source": []
  }
 ],
 "metadata": {
  "kernelspec": {
   "display_name": "Python 3",
   "language": "python",
   "name": "python3"
  },
  "language_info": {
   "codemirror_mode": {
    "name": "ipython",
    "version": 3
   },
   "file_extension": ".py",
   "mimetype": "text/x-python",
   "name": "python",
   "nbconvert_exporter": "python",
   "pygments_lexer": "ipython3",
   "version": "3.10.11"
  }
 },
 "nbformat": 4,
 "nbformat_minor": 2
}
