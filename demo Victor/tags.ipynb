{
 "cells": [
  {
   "cell_type": "code",
   "execution_count": 2,
   "metadata": {},
   "outputs": [],
   "source": [
    "import pandas as pd\n",
    "import numpy as np\n",
    "from bs4 import BeautifulSoup as bs\n",
    "\n",
    "import requests\n",
    "import json\n",
    "from random import randint\n",
    "import os\n",
    "import time\n",
    "import json\n",
    "import pickle"
   ]
  },
  {
   "cell_type": "code",
   "execution_count": 3,
   "metadata": {},
   "outputs": [
    {
     "name": "stdout",
     "output_type": "stream",
     "text": [
      "c:\\repos\\datos\\Proyecto\\Proyecto-Grupo-12\n",
      "c:\\repos\\datos\\Proyecto\\Proyecto-Grupo-12\\demo Mativ\n",
      "c:\\repos\\datos\\Proyecto\\Proyecto-Grupo-12\n",
      "c:\\repos\\datos\\Proyecto\\Proyecto-Grupo-12\\demo Victor\n"
     ]
    }
   ],
   "source": [
    "%cd ..\n",
    "%cd demo Mativ\n",
    "all_anime_df = pd.read_csv(os.path.join(\"data\", \"tags_anime.csv\"))\n",
    "%cd ..\n",
    "%cd demo Victor\n",
    "all_anime_df"
   ]
  },
  {
   "cell_type": "code",
   "execution_count": 5,
   "metadata": {},
   "outputs": [],
   "source": [
    "def extraer_tags(animes: pd.DataFrame, head):\n",
    "    # Tiempo de espera aleatorio entre 1 y 3 segundos.\n",
    "    extension = animes.copy()\n",
    "    extension[\"Tags\"] = \"\"\n",
    "    extension[\"Alts\"] = \"\"\n",
    "\n",
    "    for index, row in animes.iterrows():\n",
    "        # Tiempo de espera aleatorio entre 1 y 3 segundos.\n",
    "        time.sleep(randint(1, 3))\n",
    "        anime_url = row[\"URL\"]\n",
    "        anime_title = row[\"Anime\"]\n",
    "\n",
    "        while True:\n",
    "            try:\n",
    "                anime_response = requests.get(url=anime_url, headers=head)\n",
    "            except requests.exceptions.RequestException as e:\n",
    "                print(f\"Error de internet:\\n\\n{e}\\n\\n\")\n",
    "                print(anime_title, anime_url)\n",
    "                time.sleep(300)\n",
    "                continue\n",
    "            except Exception as e:\n",
    "                print(f\"Error desconocido:\\n\\n{e}\\n\\n\")\n",
    "                print(anime_title, anime_url)\n",
    "                time.sleep(300)\n",
    "                continue\n",
    "            try:\n",
    "                # Manejar Status codes.\n",
    "                if anime_response.status_code != 200: # Error desconocido\n",
    "                    print(anime_response.status_code)\n",
    "                    print(anime_response.json())\n",
    "                    print(anime_title, anime_url)\n",
    "                    time.sleep(60)\n",
    "                    continue\n",
    "\n",
    "                anime_soup = bs(anime_response.content, \"html.parser\")\n",
    "                \n",
    "                # Tags del anime\n",
    "                meta_tags = anime_soup.find_all(\"meta\", {\"property\": \"video:tag\"})\n",
    "                if meta_tags:\n",
    "                    tags = [tag[\"content\"] for tag in meta_tags]\n",
    "                else:\n",
    "                    tags = []\n",
    "                \n",
    "                # Titulos alternativos\n",
    "                class_aka = anime_soup.find_all(\"h2\", {\"class\": \"aka\"})\n",
    "                if class_aka:\n",
    "                    alt_titles = class_aka[0].contents[0]\n",
    "                else:\n",
    "                    alt_titles = \"\"\n",
    "\n",
    "                extension.at[index, \"Tags\"] = tags\n",
    "                extension.at[index, \"Alts\"] = alt_titles\n",
    "                break\n",
    "\n",
    "            # Manejar errores\n",
    "            except KeyboardInterrupt: # Usuario saltado por algun error etc.\n",
    "                print(\"anime saltado\")\n",
    "                print(anime_response.status_code)\n",
    "                print(anime_response.json())\n",
    "                print(anime_title, anime_url)\n",
    "                break\n",
    "\n",
    "    return extension"
   ]
  },
  {
   "cell_type": "code",
   "execution_count": 7,
   "metadata": {},
   "outputs": [],
   "source": [
    "headers = {\n",
    "    \"User-Agent\": \"Mozilla/5.0 (Windows NT 10.0; Win64; x64) AppleWebKit/537.36 (KHTML, like Gecko) Chrome/94.0.4606.81 Safari/537.36 Edg/94.0.992.50\",\n",
    "    \"Accept-Language\": \"en-US,en;q=0.5\",\n",
    "    \"Accept-Encoding\": \"gzip, deflate\",\n",
    "    \"Connection\": \"keep-alive\",\n",
    "    \"Upgrade-Insecure-Requests\": \"1\",\n",
    "    \"TE\": \"Trailers\",\n",
    "}"
   ]
  },
  {
   "cell_type": "code",
   "execution_count": null,
   "metadata": {},
   "outputs": [],
   "source": [
    "cantidad = len(all_anime_df)\n",
    "\n",
    "for i in range(6, 10):\n",
    "    conj = all_anime_df[((i-1)*cantidad)//20:(i*cantidad)//20]\n",
    "    resultado = extraer_tags(conj, headers)\n",
    "\n",
    "    path = os.path.join(\"data\", f\"tags_anime_{i}.pickle\")\n",
    "    resultado.to_csv(path, index=False)"
   ]
  }
 ],
 "metadata": {
  "kernelspec": {
   "display_name": "Python 3",
   "language": "python",
   "name": "python3"
  },
  "language_info": {
   "codemirror_mode": {
    "name": "ipython",
    "version": 3
   },
   "file_extension": ".py",
   "mimetype": "text/x-python",
   "name": "python",
   "nbconvert_exporter": "python",
   "pygments_lexer": "ipython3",
   "version": "3.10.11"
  }
 },
 "nbformat": 4,
 "nbformat_minor": 2
}
