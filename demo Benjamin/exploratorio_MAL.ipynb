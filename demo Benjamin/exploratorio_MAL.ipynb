{
 "cells": [
  {
   "cell_type": "markdown",
   "metadata": {},
   "source": [
    "## EDA: MyAnimeList\n",
    "###\n",
    "##### A continuación importamos las librerías que utilizaremos para el análisis."
   ]
  },
  {
   "cell_type": "code",
   "execution_count": 309,
   "metadata": {},
   "outputs": [],
   "source": [
    "import pandas as pd\n",
    "import requests\n",
    "import numpy as np\n",
    "import json\n",
    "from bs4 import BeautifulSoup as bs\n",
    "import random\n",
    "import time\n",
    "import os\n",
    "import json\n",
    "import pickle\n",
    "import matplotlib.pyplot as plt\n",
    "import seaborn as sns"
   ]
  },
  {
   "cell_type": "markdown",
   "metadata": {},
   "source": [
    "## Cargar Datos\n",
    "####\n",
    "##### Accedemos al archivo CSV que almacena los detalles de los animes en MAL"
   ]
  },
  {
   "cell_type": "code",
   "execution_count": 310,
   "metadata": {},
   "outputs": [],
   "source": [
    "MAL_df = pd.read_csv('../data/MAL_dataframe.csv')"
   ]
  },
  {
   "cell_type": "code",
   "execution_count": 311,
   "metadata": {},
   "outputs": [
    {
     "data": {
      "text/html": [
       "<div>\n",
       "<style scoped>\n",
       "    .dataframe tbody tr th:only-of-type {\n",
       "        vertical-align: middle;\n",
       "    }\n",
       "\n",
       "    .dataframe tbody tr th {\n",
       "        vertical-align: top;\n",
       "    }\n",
       "\n",
       "    .dataframe thead th {\n",
       "        text-align: right;\n",
       "    }\n",
       "</style>\n",
       "<table border=\"1\" class=\"dataframe\">\n",
       "  <thead>\n",
       "    <tr style=\"text-align: right;\">\n",
       "      <th></th>\n",
       "      <th>id</th>\n",
       "      <th>title</th>\n",
       "      <th>main_picture</th>\n",
       "      <th>alternative_titles</th>\n",
       "      <th>start_date</th>\n",
       "      <th>end_date</th>\n",
       "      <th>synopsis</th>\n",
       "      <th>mean</th>\n",
       "      <th>rank</th>\n",
       "      <th>popularity</th>\n",
       "      <th>num_list_users</th>\n",
       "      <th>num_scoring_users</th>\n",
       "      <th>media_type</th>\n",
       "      <th>status</th>\n",
       "      <th>num_episodes</th>\n",
       "      <th>start_season</th>\n",
       "      <th>studios</th>\n",
       "    </tr>\n",
       "  </thead>\n",
       "  <tbody>\n",
       "    <tr>\n",
       "      <th>0</th>\n",
       "      <td>1</td>\n",
       "      <td>Cowboy Bebop</td>\n",
       "      <td>{'medium': 'https://cdn.myanimelist.net/images...</td>\n",
       "      <td>{'synonyms': [], 'en': 'Cowboy Bebop', 'ja': '...</td>\n",
       "      <td>1998-04-03</td>\n",
       "      <td>1999-04-24</td>\n",
       "      <td>Crime is timeless. By the year 2071, humanity ...</td>\n",
       "      <td>8.75</td>\n",
       "      <td>44.0</td>\n",
       "      <td>43</td>\n",
       "      <td>1818165</td>\n",
       "      <td>939118</td>\n",
       "      <td>tv</td>\n",
       "      <td>finished_airing</td>\n",
       "      <td>26</td>\n",
       "      <td>{'year': 1998, 'season': 'spring'}</td>\n",
       "      <td>[{'id': 14, 'name': 'Sunrise'}]</td>\n",
       "    </tr>\n",
       "    <tr>\n",
       "      <th>1</th>\n",
       "      <td>32772</td>\n",
       "      <td>Puzzle &amp; Dragons Cross</td>\n",
       "      <td>{'medium': 'https://cdn.myanimelist.net/images...</td>\n",
       "      <td>{'synonyms': ['PazuDora Cross'], 'en': 'Puzzle...</td>\n",
       "      <td>2016-07-04</td>\n",
       "      <td>2018-03-26</td>\n",
       "      <td>Dorogoza Island is rich in \"Drop Energy\" that ...</td>\n",
       "      <td>6.49</td>\n",
       "      <td>6728.0</td>\n",
       "      <td>6665</td>\n",
       "      <td>8409</td>\n",
       "      <td>2300</td>\n",
       "      <td>tv</td>\n",
       "      <td>finished_airing</td>\n",
       "      <td>89</td>\n",
       "      <td>{'year': 2016, 'season': 'summer'}</td>\n",
       "      <td>[{'id': 1, 'name': 'Pierrot'}]</td>\n",
       "    </tr>\n",
       "    <tr>\n",
       "      <th>2</th>\n",
       "      <td>5</td>\n",
       "      <td>Cowboy Bebop: Tengoku no Tobira</td>\n",
       "      <td>{'medium': 'https://cdn.myanimelist.net/images...</td>\n",
       "      <td>{'synonyms': [\"Cowboy Bebop: Knockin' on Heave...</td>\n",
       "      <td>2001-09-01</td>\n",
       "      <td>2001-09-01</td>\n",
       "      <td>Another day, another bounty—such is the life o...</td>\n",
       "      <td>8.38</td>\n",
       "      <td>194.0</td>\n",
       "      <td>610</td>\n",
       "      <td>369342</td>\n",
       "      <td>210529</td>\n",
       "      <td>movie</td>\n",
       "      <td>finished_airing</td>\n",
       "      <td>1</td>\n",
       "      <td>{'year': 2001, 'season': 'summer'}</td>\n",
       "      <td>[{'id': 4, 'name': 'Bones'}]</td>\n",
       "    </tr>\n",
       "    <tr>\n",
       "      <th>3</th>\n",
       "      <td>6</td>\n",
       "      <td>Trigun</td>\n",
       "      <td>{'medium': 'https://cdn.myanimelist.net/images...</td>\n",
       "      <td>{'synonyms': [], 'en': 'Trigun', 'ja': 'トライガン'}</td>\n",
       "      <td>1998-04-01</td>\n",
       "      <td>1998-09-30</td>\n",
       "      <td>Vash the Stampede is the man with a $$60,000,0...</td>\n",
       "      <td>8.22</td>\n",
       "      <td>334.0</td>\n",
       "      <td>248</td>\n",
       "      <td>745104</td>\n",
       "      <td>364884</td>\n",
       "      <td>tv</td>\n",
       "      <td>finished_airing</td>\n",
       "      <td>26</td>\n",
       "      <td>{'year': 1998, 'season': 'spring'}</td>\n",
       "      <td>[{'id': 11, 'name': 'Madhouse'}]</td>\n",
       "    </tr>\n",
       "    <tr>\n",
       "      <th>4</th>\n",
       "      <td>7</td>\n",
       "      <td>Witch Hunter Robin</td>\n",
       "      <td>{'medium': 'https://cdn.myanimelist.net/images...</td>\n",
       "      <td>{'synonyms': ['WHR'], 'en': 'Witch Hunter Robi...</td>\n",
       "      <td>2002-07-03</td>\n",
       "      <td>2002-12-25</td>\n",
       "      <td>Robin Sena is a powerful craft user drafted in...</td>\n",
       "      <td>7.24</td>\n",
       "      <td>2942.0</td>\n",
       "      <td>1825</td>\n",
       "      <td>114294</td>\n",
       "      <td>43323</td>\n",
       "      <td>tv</td>\n",
       "      <td>finished_airing</td>\n",
       "      <td>26</td>\n",
       "      <td>{'year': 2002, 'season': 'summer'}</td>\n",
       "      <td>[{'id': 14, 'name': 'Sunrise'}]</td>\n",
       "    </tr>\n",
       "  </tbody>\n",
       "</table>\n",
       "</div>"
      ],
      "text/plain": [
       "      id                            title  \\\n",
       "0      1                     Cowboy Bebop   \n",
       "1  32772           Puzzle & Dragons Cross   \n",
       "2      5  Cowboy Bebop: Tengoku no Tobira   \n",
       "3      6                           Trigun   \n",
       "4      7               Witch Hunter Robin   \n",
       "\n",
       "                                        main_picture  \\\n",
       "0  {'medium': 'https://cdn.myanimelist.net/images...   \n",
       "1  {'medium': 'https://cdn.myanimelist.net/images...   \n",
       "2  {'medium': 'https://cdn.myanimelist.net/images...   \n",
       "3  {'medium': 'https://cdn.myanimelist.net/images...   \n",
       "4  {'medium': 'https://cdn.myanimelist.net/images...   \n",
       "\n",
       "                                  alternative_titles  start_date    end_date  \\\n",
       "0  {'synonyms': [], 'en': 'Cowboy Bebop', 'ja': '...  1998-04-03  1999-04-24   \n",
       "1  {'synonyms': ['PazuDora Cross'], 'en': 'Puzzle...  2016-07-04  2018-03-26   \n",
       "2  {'synonyms': [\"Cowboy Bebop: Knockin' on Heave...  2001-09-01  2001-09-01   \n",
       "3    {'synonyms': [], 'en': 'Trigun', 'ja': 'トライガン'}  1998-04-01  1998-09-30   \n",
       "4  {'synonyms': ['WHR'], 'en': 'Witch Hunter Robi...  2002-07-03  2002-12-25   \n",
       "\n",
       "                                            synopsis  mean    rank  \\\n",
       "0  Crime is timeless. By the year 2071, humanity ...  8.75    44.0   \n",
       "1  Dorogoza Island is rich in \"Drop Energy\" that ...  6.49  6728.0   \n",
       "2  Another day, another bounty—such is the life o...  8.38   194.0   \n",
       "3  Vash the Stampede is the man with a $$60,000,0...  8.22   334.0   \n",
       "4  Robin Sena is a powerful craft user drafted in...  7.24  2942.0   \n",
       "\n",
       "   popularity  num_list_users  num_scoring_users media_type           status  \\\n",
       "0          43         1818165             939118         tv  finished_airing   \n",
       "1        6665            8409               2300         tv  finished_airing   \n",
       "2         610          369342             210529      movie  finished_airing   \n",
       "3         248          745104             364884         tv  finished_airing   \n",
       "4        1825          114294              43323         tv  finished_airing   \n",
       "\n",
       "   num_episodes                        start_season  \\\n",
       "0            26  {'year': 1998, 'season': 'spring'}   \n",
       "1            89  {'year': 2016, 'season': 'summer'}   \n",
       "2             1  {'year': 2001, 'season': 'summer'}   \n",
       "3            26  {'year': 1998, 'season': 'spring'}   \n",
       "4            26  {'year': 2002, 'season': 'summer'}   \n",
       "\n",
       "                            studios  \n",
       "0   [{'id': 14, 'name': 'Sunrise'}]  \n",
       "1    [{'id': 1, 'name': 'Pierrot'}]  \n",
       "2      [{'id': 4, 'name': 'Bones'}]  \n",
       "3  [{'id': 11, 'name': 'Madhouse'}]  \n",
       "4   [{'id': 14, 'name': 'Sunrise'}]  "
      ]
     },
     "execution_count": 311,
     "metadata": {},
     "output_type": "execute_result"
    }
   ],
   "source": [
    "MAL_df.head()"
   ]
  },
  {
   "cell_type": "markdown",
   "metadata": {},
   "source": [
    "#####\n",
    "##### A continuación, llevaremos a cabo la limpieza del DataFrame, centrándonos en uno de los objetivos definidos en la propuesta del proyecto: la identificación de los animes de culto o 'clásicos'. Además, estaremos atentos a posibles análisis adicionales que puedan surgir durante el proceso del EDA y que resulten útiles para el proyecto.\n",
    "##### "
   ]
  },
  {
   "cell_type": "code",
   "execution_count": 312,
   "metadata": {},
   "outputs": [],
   "source": [
    "# Removemos columnas que podrían no ser esenciales al evaluar un anime de culto o que\n",
    "# podrían estar implicitas en otras columnas clave.\n",
    "MAL_df_clean = MAL_df.drop(columns=[ 'main_picture', 'alternative_titles', 'media_type', \n",
    "       'start_season', 'studios', 'num_scoring_users'])"
   ]
  },
  {
   "cell_type": "code",
   "execution_count": 313,
   "metadata": {},
   "outputs": [],
   "source": [
    "# Convertimos estas columnas a tipo de dato fecha para darles un mejor uso posteriormente.\n",
    "MAL_df_clean['start_date'] = pd.to_datetime(MAL_df_clean['start_date'])\n",
    "MAL_df_clean['end_date'] = pd.to_datetime(MAL_df_clean['end_date'])"
   ]
  },
  {
   "cell_type": "code",
   "execution_count": 314,
   "metadata": {},
   "outputs": [
    {
     "name": "stdout",
     "output_type": "stream",
     "text": [
      "<class 'pandas.core.frame.DataFrame'>\n",
      "RangeIndex: 8978 entries, 0 to 8977\n",
      "Data columns (total 11 columns):\n",
      " #   Column          Non-Null Count  Dtype         \n",
      "---  ------          --------------  -----         \n",
      " 0   id              8978 non-null   int64         \n",
      " 1   title           8978 non-null   object        \n",
      " 2   start_date      8976 non-null   datetime64[ns]\n",
      " 3   end_date        8977 non-null   datetime64[ns]\n",
      " 4   synopsis        8900 non-null   object        \n",
      " 5   mean            8908 non-null   float64       \n",
      " 6   rank            8474 non-null   float64       \n",
      " 7   popularity      8978 non-null   int64         \n",
      " 8   num_list_users  8978 non-null   int64         \n",
      " 9   status          8978 non-null   object        \n",
      " 10  num_episodes    8978 non-null   int64         \n",
      "dtypes: datetime64[ns](2), float64(2), int64(4), object(3)\n",
      "memory usage: 771.7+ KB\n"
     ]
    }
   ],
   "source": [
    "MAL_df_clean.info()"
   ]
  },
  {
   "cell_type": "code",
   "execution_count": 315,
   "metadata": {},
   "outputs": [
    {
     "name": "stdout",
     "output_type": "stream",
     "text": [
      "Datos duplicados: False\n",
      "N° de datos duplicados: 0\n",
      "Datos nulos:  True\n",
      "N° de datos nulos:  655\n"
     ]
    }
   ],
   "source": [
    "# Verificamos si es que existen duplicados en el DataFrame entero y cuantos en caso de que existan.\n",
    "# Realizaremos el mismo proceso para los datos nulos.\n",
    "\n",
    "print(f'Datos duplicados:', MAL_df_clean.duplicated().any())\n",
    "print(f'N° de datos duplicados:', MAL_df_clean.duplicated().sum())\n",
    "print(f'Datos nulos: ', MAL_df_clean.isnull().any().any())\n",
    "print(f'N° de datos nulos: ', MAL_df_clean.isnull().sum().sum())\n"
   ]
  },
  {
   "cell_type": "code",
   "execution_count": 316,
   "metadata": {},
   "outputs": [
    {
     "data": {
      "text/plain": [
       "id                  0\n",
       "title               0\n",
       "start_date          2\n",
       "end_date            1\n",
       "synopsis           78\n",
       "mean               70\n",
       "rank              504\n",
       "popularity          0\n",
       "num_list_users      0\n",
       "status              0\n",
       "num_episodes        0\n",
       "dtype: int64"
      ]
     },
     "execution_count": 316,
     "metadata": {},
     "output_type": "execute_result"
    }
   ],
   "source": [
    "MAL_df_clean.isnull().sum()"
   ]
  },
  {
   "cell_type": "code",
   "execution_count": 317,
   "metadata": {},
   "outputs": [
    {
     "data": {
      "text/html": [
       "<div>\n",
       "<style scoped>\n",
       "    .dataframe tbody tr th:only-of-type {\n",
       "        vertical-align: middle;\n",
       "    }\n",
       "\n",
       "    .dataframe tbody tr th {\n",
       "        vertical-align: top;\n",
       "    }\n",
       "\n",
       "    .dataframe thead th {\n",
       "        text-align: right;\n",
       "    }\n",
       "</style>\n",
       "<table border=\"1\" class=\"dataframe\">\n",
       "  <thead>\n",
       "    <tr style=\"text-align: right;\">\n",
       "      <th></th>\n",
       "      <th>id</th>\n",
       "      <th>title</th>\n",
       "      <th>start_date</th>\n",
       "      <th>end_date</th>\n",
       "      <th>synopsis</th>\n",
       "      <th>mean</th>\n",
       "      <th>rank</th>\n",
       "      <th>popularity</th>\n",
       "      <th>num_list_users</th>\n",
       "      <th>status</th>\n",
       "      <th>num_episodes</th>\n",
       "    </tr>\n",
       "  </thead>\n",
       "  <tbody>\n",
       "    <tr>\n",
       "      <th>2696</th>\n",
       "      <td>33187</td>\n",
       "      <td>Katsudou Shashin</td>\n",
       "      <td>NaT</td>\n",
       "      <td>NaT</td>\n",
       "      <td>A young boy dressed in sailor attire and a bri...</td>\n",
       "      <td>5.48</td>\n",
       "      <td>11422.0</td>\n",
       "      <td>6860</td>\n",
       "      <td>7894</td>\n",
       "      <td>finished_airing</td>\n",
       "      <td>1</td>\n",
       "    </tr>\n",
       "    <tr>\n",
       "      <th>8550</th>\n",
       "      <td>30840</td>\n",
       "      <td>Many Things SD Gundam</td>\n",
       "      <td>NaT</td>\n",
       "      <td>2011-07-22</td>\n",
       "      <td>Specials included on SD Gundam Collection Box.</td>\n",
       "      <td>5.00</td>\n",
       "      <td>12520.0</td>\n",
       "      <td>12719</td>\n",
       "      <td>1085</td>\n",
       "      <td>finished_airing</td>\n",
       "      <td>2</td>\n",
       "    </tr>\n",
       "  </tbody>\n",
       "</table>\n",
       "</div>"
      ],
      "text/plain": [
       "         id                  title start_date   end_date  \\\n",
       "2696  33187       Katsudou Shashin        NaT        NaT   \n",
       "8550  30840  Many Things SD Gundam        NaT 2011-07-22   \n",
       "\n",
       "                                               synopsis  mean     rank  \\\n",
       "2696  A young boy dressed in sailor attire and a bri...  5.48  11422.0   \n",
       "8550     Specials included on SD Gundam Collection Box.  5.00  12520.0   \n",
       "\n",
       "      popularity  num_list_users           status  num_episodes  \n",
       "2696        6860            7894  finished_airing             1  \n",
       "8550       12719            1085  finished_airing             2  "
      ]
     },
     "execution_count": 317,
     "metadata": {},
     "output_type": "execute_result"
    }
   ],
   "source": [
    "filas_nulas_star_date = MAL_df_clean[MAL_df_clean['start_date'].isnull()]\n",
    "filas_nulas_star_date"
   ]
  },
  {
   "cell_type": "code",
   "execution_count": 318,
   "metadata": {},
   "outputs": [],
   "source": [
    "MAL_df_clean = MAL_df_clean.drop(2696)"
   ]
  },
  {
   "cell_type": "code",
   "execution_count": 319,
   "metadata": {},
   "outputs": [
    {
     "name": "stderr",
     "output_type": "stream",
     "text": [
      "C:\\Users\\56936\\AppData\\Local\\Temp\\ipykernel_16624\\719342837.py:1: SettingWithCopyWarning: \n",
      "A value is trying to be set on a copy of a slice from a DataFrame\n",
      "\n",
      "See the caveats in the documentation: https://pandas.pydata.org/pandas-docs/stable/user_guide/indexing.html#returning-a-view-versus-a-copy\n",
      "  MAL_df_clean['start_date'][8550] = np.datetime64('2011-01-01')\n"
     ]
    },
    {
     "data": {
      "text/plain": [
       "Timestamp('2015-04-07 00:00:00')"
      ]
     },
     "execution_count": 319,
     "metadata": {},
     "output_type": "execute_result"
    }
   ],
   "source": [
    "MAL_df_clean['start_date'][8550] = np.datetime64('2011-01-01')\n",
    "MAL_df_clean.iloc[8550]['start_date']"
   ]
  },
  {
   "cell_type": "markdown",
   "metadata": {},
   "source": [
    "##### Identificamos un anime que carece tanto de fecha de inicio como de fecha de finalización de emisión. Dado que no contamos con información completa sobre su periodo de emisión, hemos decidido no incluir este anime en nuestro análisis. No obstante, hay otro anime que únicamente carece de la fecha de inicio. Optamos por incluir este último en nuestro análisis, ya que pudimos obtener la información faltante de manera verificada a través de este sitio: https://gachax.com/anime/db/many-things-sd-gundam/\n",
    "####\n",
    "####\n",
    "####"
   ]
  },
  {
   "cell_type": "code",
   "execution_count": 320,
   "metadata": {},
   "outputs": [
    {
     "name": "stdout",
     "output_type": "stream",
     "text": [
      "N° de animes con valores nulos en la columna de promedio: 70\n"
     ]
    }
   ],
   "source": [
    "filas_nulas_mean = MAL_df_clean[MAL_df_clean['mean'].isnull()]\n",
    "print(f'N° de animes con valores nulos en la columna de promedio:', len(filas_nulas_mean))"
   ]
  },
  {
   "cell_type": "code",
   "execution_count": 321,
   "metadata": {},
   "outputs": [
    {
     "name": "stdout",
     "output_type": "stream",
     "text": [
      "N° de animes con valores nulos en la columna de ranking: 504\n"
     ]
    }
   ],
   "source": [
    "filas_nulas_rank = MAL_df_clean[MAL_df_clean['rank'].isnull()]\n",
    "print(f'N° de animes con valores nulos en la columna de ranking:', len(filas_nulas_rank))"
   ]
  },
  {
   "cell_type": "code",
   "execution_count": 322,
   "metadata": {},
   "outputs": [
    {
     "name": "stdout",
     "output_type": "stream",
     "text": [
      "N° de animes con valores nulos en la columna de ranking y promedio: 27\n"
     ]
    }
   ],
   "source": [
    "nulos_mean_rank = MAL_df_clean[MAL_df_clean[['rank', 'mean']].isnull().all(axis=1)]\n",
    "print(f'N° de animes con valores nulos en la columna de ranking y promedio:', len(nulos_mean_rank))"
   ]
  },
  {
   "cell_type": "code",
   "execution_count": 323,
   "metadata": {},
   "outputs": [],
   "source": [
    "MAL_df_clean = MAL_df_clean.dropna(subset=['mean'])\n",
    "MAL_df_clean = MAL_df_clean.dropna(subset=['rank'])"
   ]
  },
  {
   "cell_type": "markdown",
   "metadata": {},
   "source": [
    "##### Después de investigar el funcionamiento del sistema de puntuaciones de MAL, que se detalla en el siguiente enlace: https://myanimelist.net/info.php?go=topanime, llegamos a la conclusión de que la presencia de valores nulos en las columnas 'mean' y 'rank' podría tener un impacto en la fiabilidad de la puntuación. Esto podría indicar que la entrada en cuestión no ha recibido suficientes puntuaciones para calcular una puntuación ponderada confiable, posiblemente debido a que es menos conocida o reciente. Dado que nuestro análisis se centra en evaluar la calidad general de los animes, consideramos útil excluir las entradas con valores nulos para obtener una visión más precisa  \n",
    "#\n",
    "#\n",
    "#"
   ]
  },
  {
   "cell_type": "code",
   "execution_count": 324,
   "metadata": {},
   "outputs": [
    {
     "data": {
      "text/html": [
       "<div>\n",
       "<style scoped>\n",
       "    .dataframe tbody tr th:only-of-type {\n",
       "        vertical-align: middle;\n",
       "    }\n",
       "\n",
       "    .dataframe tbody tr th {\n",
       "        vertical-align: top;\n",
       "    }\n",
       "\n",
       "    .dataframe thead th {\n",
       "        text-align: right;\n",
       "    }\n",
       "</style>\n",
       "<table border=\"1\" class=\"dataframe\">\n",
       "  <thead>\n",
       "    <tr style=\"text-align: right;\">\n",
       "      <th></th>\n",
       "      <th>id</th>\n",
       "      <th>title</th>\n",
       "      <th>start_date</th>\n",
       "      <th>end_date</th>\n",
       "      <th>synopsis</th>\n",
       "      <th>mean</th>\n",
       "      <th>rank</th>\n",
       "      <th>popularity</th>\n",
       "      <th>num_list_users</th>\n",
       "      <th>status</th>\n",
       "      <th>num_episodes</th>\n",
       "    </tr>\n",
       "  </thead>\n",
       "  <tbody>\n",
       "    <tr>\n",
       "      <th>523</th>\n",
       "      <td>33308</td>\n",
       "      <td>Tantei Opera Milky Holmes: Fun Fun Party Night...</td>\n",
       "      <td>2016-12-31</td>\n",
       "      <td>2016-12-31</td>\n",
       "      <td>NaN</td>\n",
       "      <td>6.67</td>\n",
       "      <td>5689.0</td>\n",
       "      <td>10355</td>\n",
       "      <td>2410</td>\n",
       "      <td>finished_airing</td>\n",
       "      <td>1</td>\n",
       "    </tr>\n",
       "    <tr>\n",
       "      <th>1177</th>\n",
       "      <td>34032</td>\n",
       "      <td>King of Prism: Pride the Hero</td>\n",
       "      <td>2017-06-10</td>\n",
       "      <td>2017-06-10</td>\n",
       "      <td>NaN</td>\n",
       "      <td>6.87</td>\n",
       "      <td>4715.0</td>\n",
       "      <td>8505</td>\n",
       "      <td>4562</td>\n",
       "      <td>finished_airing</td>\n",
       "      <td>1</td>\n",
       "    </tr>\n",
       "    <tr>\n",
       "      <th>1661</th>\n",
       "      <td>34552</td>\n",
       "      <td>Dream Festival! R</td>\n",
       "      <td>2017-08-23</td>\n",
       "      <td>2017-11-08</td>\n",
       "      <td>NaN</td>\n",
       "      <td>6.83</td>\n",
       "      <td>4901.0</td>\n",
       "      <td>8048</td>\n",
       "      <td>5300</td>\n",
       "      <td>finished_airing</td>\n",
       "      <td>12</td>\n",
       "    </tr>\n",
       "    <tr>\n",
       "      <th>2024</th>\n",
       "      <td>35081</td>\n",
       "      <td>The iDOLM@STER Million Live! 4-shuunen Kinen PV</td>\n",
       "      <td>2017-03-12</td>\n",
       "      <td>2017-03-12</td>\n",
       "      <td>NaN</td>\n",
       "      <td>6.52</td>\n",
       "      <td>6552.0</td>\n",
       "      <td>10112</td>\n",
       "      <td>2600</td>\n",
       "      <td>finished_airing</td>\n",
       "      <td>1</td>\n",
       "    </tr>\n",
       "    <tr>\n",
       "      <th>2026</th>\n",
       "      <td>33035</td>\n",
       "      <td>Yuyushiki: Komarasetari, Komarasaretari</td>\n",
       "      <td>2017-02-22</td>\n",
       "      <td>2017-02-22</td>\n",
       "      <td>NaN</td>\n",
       "      <td>7.31</td>\n",
       "      <td>2589.0</td>\n",
       "      <td>5647</td>\n",
       "      <td>12661</td>\n",
       "      <td>finished_airing</td>\n",
       "      <td>1</td>\n",
       "    </tr>\n",
       "  </tbody>\n",
       "</table>\n",
       "</div>"
      ],
      "text/plain": [
       "         id                                              title start_date  \\\n",
       "523   33308  Tantei Opera Milky Holmes: Fun Fun Party Night... 2016-12-31   \n",
       "1177  34032                      King of Prism: Pride the Hero 2017-06-10   \n",
       "1661  34552                                  Dream Festival! R 2017-08-23   \n",
       "2024  35081    The iDOLM@STER Million Live! 4-shuunen Kinen PV 2017-03-12   \n",
       "2026  33035            Yuyushiki: Komarasetari, Komarasaretari 2017-02-22   \n",
       "\n",
       "       end_date synopsis  mean    rank  popularity  num_list_users  \\\n",
       "523  2016-12-31      NaN  6.67  5689.0       10355            2410   \n",
       "1177 2017-06-10      NaN  6.87  4715.0        8505            4562   \n",
       "1661 2017-11-08      NaN  6.83  4901.0        8048            5300   \n",
       "2024 2017-03-12      NaN  6.52  6552.0       10112            2600   \n",
       "2026 2017-02-22      NaN  7.31  2589.0        5647           12661   \n",
       "\n",
       "               status  num_episodes  \n",
       "523   finished_airing             1  \n",
       "1177  finished_airing             1  \n",
       "1661  finished_airing            12  \n",
       "2024  finished_airing             1  \n",
       "2026  finished_airing             1  "
      ]
     },
     "execution_count": 324,
     "metadata": {},
     "output_type": "execute_result"
    }
   ],
   "source": [
    "filas_nulas_synopsis = MAL_df_clean[MAL_df_clean['synopsis'].isnull()]\n",
    "filas_nulas_synopsis.head()"
   ]
  },
  {
   "cell_type": "code",
   "execution_count": 325,
   "metadata": {},
   "outputs": [
    {
     "name": "stdout",
     "output_type": "stream",
     "text": [
      "N° de animes sin sinopsis: 57\n"
     ]
    }
   ],
   "source": [
    "print(f'N° de animes sin sinopsis:', len(filas_nulas_synopsis))"
   ]
  },
  {
   "cell_type": "code",
   "execution_count": 326,
   "metadata": {},
   "outputs": [
    {
     "name": "stdout",
     "output_type": "stream",
     "text": [
      "Promedio máximo del conjunto de animes sin sinopsis 7.78\n"
     ]
    }
   ],
   "source": [
    "print(f'Promedio máximo del conjunto de animes sin sinopsis', filas_nulas_synopsis['mean'].max())"
   ]
  },
  {
   "cell_type": "markdown",
   "metadata": {},
   "source": [
    "##### Dado que hay animes sin sinopsis, se podría contemplar un enfoque diferenciado. Por un lado, podríamos incluir todos los animes en el análisis, mientras que, por otro lado, podríamos centrarnos únicamente en aquellos que cuentan con sinopsis. Sin embargo, dado que hay 78 animes sin sinopsis y en análisis posteriores utilizaremos un umbral de calificación superior a 8, excluyendo así a estos animes, hemos decidido eliminarlos del conjunto de datos.\n",
    "#\n",
    "#\n",
    "#"
   ]
  },
  {
   "cell_type": "markdown",
   "metadata": {},
   "source": [
    "#\n",
    "## La Evolución Temporal de Calificaciones y Popularidad de los animes en MAL."
   ]
  },
  {
   "cell_type": "code",
   "execution_count": 327,
   "metadata": {},
   "outputs": [
    {
     "name": "stdout",
     "output_type": "stream",
     "text": [
      "N° de animes de cada conjunto: 597\n"
     ]
    }
   ],
   "source": [
    "'''\n",
    "Definimos umbral del promedio de calificaciones y en base a este umbral definiremos el de popularidad.\n",
    "Esto debido a que la variable de popularidad no suele ser un factor determinante al momento de definir\n",
    "sin un anime es de culto o no.\n",
    "'''\n",
    "\n",
    "umbral_calificacion_alta = 8.0\n",
    "umbral_popularidad_alta = 0\n",
    "\n",
    "while True:\n",
    "    animes_alta_calificacion = MAL_df_clean[MAL_df_clean['mean'] >= umbral_calificacion_alta]\n",
    "    animes_alta_popularidad = MAL_df_clean[MAL_df_clean['popularity'] <= umbral_popularidad_alta]\n",
    "    if len(animes_alta_calificacion) == len(animes_alta_popularidad):\n",
    "        umbral_popularidad_alta = umbral_popularidad_alta\n",
    "        break\n",
    "    else:\n",
    "        umbral_popularidad_alta += 1\n",
    "\n",
    "print(f'N° de animes de cada conjunto:', len(animes_alta_calificacion))"
   ]
  },
  {
   "cell_type": "code",
   "execution_count": 328,
   "metadata": {},
   "outputs": [
    {
     "name": "stdout",
     "output_type": "stream",
     "text": [
      "N° de animes destacados:  262\n"
     ]
    }
   ],
   "source": [
    "# Unimos los conjuntos de animes filtrados posteriormente, para obtener entre ambos, animes \n",
    "# que se destaquen en MAL y posiblemente potenciales candidatos a ser animes de culto.\n",
    "animes_destacados = pd.merge(animes_alta_calificacion, animes_alta_popularidad, how='inner')\n",
    "print(f'N° de animes destacados: ', len(animes_destacados))"
   ]
  },
  {
   "cell_type": "code",
   "execution_count": 329,
   "metadata": {},
   "outputs": [
    {
     "data": {
      "image/png": "[encoded data removed]",
      "text/plain": [
       "<Figure size 864x432 with 1 Axes>"
      ]
     },
     "metadata": {},
     "output_type": "display_data"
    }
   ],
   "source": [
    "# Gráfico para evaluar la evolución temporal\n",
    "plt.figure(figsize=(12, 6))\n",
    "sns.scatterplot(x='start_date', y='mean', data=animes_destacados, marker='o', label='Calificación Media')\n",
    "plt.title('Evolución Temporal de Animes Destacados')\n",
    "plt.xlabel('Fecha de inicio')\n",
    "plt.ylabel('Calificación Media')\n",
    "plt.legend()\n",
    "plt.show()"
   ]
  },
  {
   "cell_type": "markdown",
   "metadata": {},
   "source": [
    "##### Al analizar el scatterplot, notamos que una considerable cantidad de los animes destacados tienen fechas de inicio cercanas a la actualidad. Sin embargo, es crucial destacar que la condición de 'anime de culto' está estrechamente vinculada con la longevidad, así como el impacto que el anime pueda tener en la sociedad y la conexión que logre establecer con la audiencia. Por lo tanto, no podemos basarnos exclusivamente en aquellos con una calificación promedio más alta o con fechas de inicio antiguas, ya que ambos aspectos deben converger para que un anime sea considerado de culto. Por otro lado, la gráfica proporciona una visión general de la distribución temporal de estos animes destacados, lo que nos ayuda a identificar posibles candidatos.\n",
    "#\n",
    "#\n",
    "# "
   ]
  },
  {
   "cell_type": "markdown",
   "metadata": {},
   "source": [
    "#\n",
    "## Exploración de Animes a través de las Listas de Usuarios"
   ]
  },
  {
   "cell_type": "code",
   "execution_count": 330,
   "metadata": {},
   "outputs": [],
   "source": [
    "animes_destacados_por_listas = MAL_df_clean.sort_values(by='num_list_users', ascending=False)"
   ]
  },
  {
   "cell_type": "code",
   "execution_count": 331,
   "metadata": {},
   "outputs": [
    {
     "data": {
      "image/png": "[encoded data removed]",
      "text/plain": [
       "<Figure size 864x576 with 1 Axes>"
      ]
     },
     "metadata": {},
     "output_type": "display_data"
    }
   ],
   "source": [
    "sns.set(style=\"whitegrid\")\n",
    "\n",
    "# Creamos el gráfico de barras\n",
    "plt.figure(figsize=(12, 8))\n",
    "barplot = sns.barplot(x='num_list_users', y='title', data=animes_destacados_por_listas.head(30), palette='viridis')\n",
    "plt.title('Top 30 Animes por Número de Usuarios en Listas')\n",
    "plt.xlabel('Número de Usuarios en Listas')\n",
    "plt.ylabel('Título del Anime')\n",
    "plt.show()"
   ]
  },
  {
   "cell_type": "code",
   "execution_count": 332,
   "metadata": {},
   "outputs": [
    {
     "data": {
      "text/html": [
       "<div>\n",
       "<style scoped>\n",
       "    .dataframe tbody tr th:only-of-type {\n",
       "        vertical-align: middle;\n",
       "    }\n",
       "\n",
       "    .dataframe tbody tr th {\n",
       "        vertical-align: top;\n",
       "    }\n",
       "\n",
       "    .dataframe thead th {\n",
       "        text-align: right;\n",
       "    }\n",
       "</style>\n",
       "<table border=\"1\" class=\"dataframe\">\n",
       "  <thead>\n",
       "    <tr style=\"text-align: right;\">\n",
       "      <th></th>\n",
       "      <th>id</th>\n",
       "      <th>title</th>\n",
       "      <th>start_date</th>\n",
       "      <th>end_date</th>\n",
       "      <th>synopsis</th>\n",
       "      <th>mean</th>\n",
       "      <th>rank</th>\n",
       "      <th>popularity</th>\n",
       "      <th>num_list_users</th>\n",
       "      <th>status</th>\n",
       "      <th>num_episodes</th>\n",
       "    </tr>\n",
       "  </thead>\n",
       "  <tbody>\n",
       "    <tr>\n",
       "      <th>0</th>\n",
       "      <td>16498</td>\n",
       "      <td>Shingeki no Kyojin</td>\n",
       "      <td>2013-04-07</td>\n",
       "      <td>2013-09-29</td>\n",
       "      <td>Centuries ago, mankind was slaughtered to near...</td>\n",
       "      <td>8.54</td>\n",
       "      <td>110.0</td>\n",
       "      <td>1</td>\n",
       "      <td>3841111</td>\n",
       "      <td>finished_airing</td>\n",
       "      <td>25</td>\n",
       "    </tr>\n",
       "    <tr>\n",
       "      <th>1</th>\n",
       "      <td>1535</td>\n",
       "      <td>Death Note</td>\n",
       "      <td>2006-10-04</td>\n",
       "      <td>2007-06-27</td>\n",
       "      <td>Brutal murders, petty thefts, and senseless vi...</td>\n",
       "      <td>8.62</td>\n",
       "      <td>83.0</td>\n",
       "      <td>2</td>\n",
       "      <td>3804024</td>\n",
       "      <td>finished_airing</td>\n",
       "      <td>37</td>\n",
       "    </tr>\n",
       "    <tr>\n",
       "      <th>2</th>\n",
       "      <td>5114</td>\n",
       "      <td>Fullmetal Alchemist: Brotherhood</td>\n",
       "      <td>2009-04-05</td>\n",
       "      <td>2010-07-04</td>\n",
       "      <td>After a horrific alchemy experiment goes wrong...</td>\n",
       "      <td>9.10</td>\n",
       "      <td>1.0</td>\n",
       "      <td>3</td>\n",
       "      <td>3255493</td>\n",
       "      <td>finished_airing</td>\n",
       "      <td>64</td>\n",
       "    </tr>\n",
       "    <tr>\n",
       "      <th>3</th>\n",
       "      <td>30276</td>\n",
       "      <td>One Punch Man</td>\n",
       "      <td>2015-10-05</td>\n",
       "      <td>2015-12-21</td>\n",
       "      <td>The seemingly unimpressive Saitama has a rathe...</td>\n",
       "      <td>8.50</td>\n",
       "      <td>131.0</td>\n",
       "      <td>4</td>\n",
       "      <td>3134268</td>\n",
       "      <td>finished_airing</td>\n",
       "      <td>12</td>\n",
       "    </tr>\n",
       "    <tr>\n",
       "      <th>4</th>\n",
       "      <td>38000</td>\n",
       "      <td>Kimetsu no Yaiba</td>\n",
       "      <td>2019-04-06</td>\n",
       "      <td>2019-09-28</td>\n",
       "      <td>Ever since the death of his father, the burden...</td>\n",
       "      <td>8.49</td>\n",
       "      <td>133.0</td>\n",
       "      <td>7</td>\n",
       "      <td>2917758</td>\n",
       "      <td>finished_airing</td>\n",
       "      <td>26</td>\n",
       "    </tr>\n",
       "  </tbody>\n",
       "</table>\n",
       "</div>"
      ],
      "text/plain": [
       "      id                             title start_date   end_date  \\\n",
       "0  16498                Shingeki no Kyojin 2013-04-07 2013-09-29   \n",
       "1   1535                        Death Note 2006-10-04 2007-06-27   \n",
       "2   5114  Fullmetal Alchemist: Brotherhood 2009-04-05 2010-07-04   \n",
       "3  30276                     One Punch Man 2015-10-05 2015-12-21   \n",
       "4  38000                  Kimetsu no Yaiba 2019-04-06 2019-09-28   \n",
       "\n",
       "                                            synopsis  mean   rank  popularity  \\\n",
       "0  Centuries ago, mankind was slaughtered to near...  8.54  110.0           1   \n",
       "1  Brutal murders, petty thefts, and senseless vi...  8.62   83.0           2   \n",
       "2  After a horrific alchemy experiment goes wrong...  9.10    1.0           3   \n",
       "3  The seemingly unimpressive Saitama has a rathe...  8.50  131.0           4   \n",
       "4  Ever since the death of his father, the burden...  8.49  133.0           7   \n",
       "\n",
       "   num_list_users           status  num_episodes  \n",
       "0         3841111  finished_airing            25  \n",
       "1         3804024  finished_airing            37  \n",
       "2         3255493  finished_airing            64  \n",
       "3         3134268  finished_airing            12  \n",
       "4         2917758  finished_airing            26  "
      ]
     },
     "execution_count": 332,
     "metadata": {},
     "output_type": "execute_result"
    }
   ],
   "source": [
    "animes_destacados_final = pd.merge(animes_destacados_por_listas.head(100), animes_destacados, on=\n",
    "                                   ['id', 'title', 'start_date', 'end_date', 'synopsis', 'mean', 'rank',\n",
    "       'popularity', 'num_list_users', 'status', 'num_episodes'], how='inner')\n",
    "animes_destacados_final.head()"
   ]
  },
  {
   "cell_type": "code",
   "execution_count": 333,
   "metadata": {},
   "outputs": [
    {
     "name": "stdout",
     "output_type": "stream",
     "text": [
      "No existen animes que sigan en transmisión.\n"
     ]
    }
   ],
   "source": [
    "# # Comprobamos si existe animes que siguen siendo trasmitidos\n",
    "if any(status != 'finished_airing' for status in animes_destacados_final['status']):\n",
    "    print(\"Hay animes que siguen siendo transmitidos.\")\n",
    "else:\n",
    "    print(\"No existen animes que sigan en transmisión.\")\n"
   ]
  },
  {
   "cell_type": "markdown",
   "metadata": {},
   "source": [
    "##### A partir de lo anterior, se puede inferir que el estado de 'status' desempeñaría un papel crucial al determinar qué animes podrían considerarse de culto.\n",
    "#\n",
    "#"
   ]
  },
  {
   "cell_type": "markdown",
   "metadata": {},
   "source": [
    "#\n",
    "## Exploración de Animes a través de su N° de Episodios"
   ]
  },
  {
   "cell_type": "code",
   "execution_count": 334,
   "metadata": {},
   "outputs": [
    {
     "name": "stdout",
     "output_type": "stream",
     "text": [
      "Descripción estadística del N° de episodios de cada anime:\n",
      "\n",
      "count     68.000000\n",
      "mean      29.602941\n",
      "std       63.522975\n",
      "min        1.000000\n",
      "25%       12.000000\n",
      "50%       19.000000\n",
      "75%       25.000000\n",
      "max      500.000000\n",
      "Name: num_episodes, dtype: float64\n"
     ]
    }
   ],
   "source": [
    "print(\"Descripción estadística del N° de episodios de cada anime:\\n\")\n",
    "print(animes_destacados_final['num_episodes'].describe())"
   ]
  },
  {
   "cell_type": "code",
   "execution_count": 335,
   "metadata": {},
   "outputs": [
    {
     "data": {
      "image/png": "[encoded data removed]",
      "text/plain": [
       "<Figure size 720x432 with 1 Axes>"
      ]
     },
     "metadata": {},
     "output_type": "display_data"
    }
   ],
   "source": [
    "plt.figure(figsize=(10, 6))\n",
    "plt.boxplot(animes_destacados_final['num_episodes'], vert=False)\n",
    "plt.title('Boxplot del Número de Episodios')\n",
    "plt.xlabel('Número de Episodios')\n",
    "plt.show()\n"
   ]
  },
  {
   "cell_type": "code",
   "execution_count": 340,
   "metadata": {},
   "outputs": [
    {
     "data": {
      "text/html": [
       "<div>\n",
       "<style scoped>\n",
       "    .dataframe tbody tr th:only-of-type {\n",
       "        vertical-align: middle;\n",
       "    }\n",
       "\n",
       "    .dataframe tbody tr th {\n",
       "        vertical-align: top;\n",
       "    }\n",
       "\n",
       "    .dataframe thead th {\n",
       "        text-align: right;\n",
       "    }\n",
       "</style>\n",
       "<table border=\"1\" class=\"dataframe\">\n",
       "  <thead>\n",
       "    <tr style=\"text-align: right;\">\n",
       "      <th></th>\n",
       "      <th>id</th>\n",
       "      <th>title</th>\n",
       "      <th>start_date</th>\n",
       "      <th>end_date</th>\n",
       "      <th>synopsis</th>\n",
       "      <th>mean</th>\n",
       "      <th>rank</th>\n",
       "      <th>popularity</th>\n",
       "      <th>num_list_users</th>\n",
       "      <th>status</th>\n",
       "      <th>num_episodes</th>\n",
       "    </tr>\n",
       "  </thead>\n",
       "  <tbody>\n",
       "    <tr>\n",
       "      <th>10</th>\n",
       "      <td>1735</td>\n",
       "      <td>Naruto: Shippuuden</td>\n",
       "      <td>2007-02-15</td>\n",
       "      <td>2017-03-23</td>\n",
       "      <td>It has been two and a half years since Naruto ...</td>\n",
       "      <td>8.26</td>\n",
       "      <td>292.0</td>\n",
       "      <td>15</td>\n",
       "      <td>2415660</td>\n",
       "      <td>finished_airing</td>\n",
       "      <td>500</td>\n",
       "    </tr>\n",
       "    <tr>\n",
       "      <th>41</th>\n",
       "      <td>34572</td>\n",
       "      <td>Black Clover</td>\n",
       "      <td>2017-10-03</td>\n",
       "      <td>2021-03-30</td>\n",
       "      <td>Asta and Yuno were abandoned at the same churc...</td>\n",
       "      <td>8.15</td>\n",
       "      <td>421.0</td>\n",
       "      <td>60</td>\n",
       "      <td>1608533</td>\n",
       "      <td>finished_airing</td>\n",
       "      <td>170</td>\n",
       "    </tr>\n",
       "    <tr>\n",
       "      <th>5</th>\n",
       "      <td>11061</td>\n",
       "      <td>Hunter x Hunter (2011)</td>\n",
       "      <td>2011-10-02</td>\n",
       "      <td>2014-09-24</td>\n",
       "      <td>Hunters devote themselves to accomplishing haz...</td>\n",
       "      <td>9.04</td>\n",
       "      <td>8.0</td>\n",
       "      <td>10</td>\n",
       "      <td>2740243</td>\n",
       "      <td>finished_airing</td>\n",
       "      <td>148</td>\n",
       "    </tr>\n",
       "  </tbody>\n",
       "</table>\n",
       "</div>"
      ],
      "text/plain": [
       "       id                   title start_date   end_date  \\\n",
       "10   1735      Naruto: Shippuuden 2007-02-15 2017-03-23   \n",
       "41  34572            Black Clover 2017-10-03 2021-03-30   \n",
       "5   11061  Hunter x Hunter (2011) 2011-10-02 2014-09-24   \n",
       "\n",
       "                                             synopsis  mean   rank  \\\n",
       "10  It has been two and a half years since Naruto ...  8.26  292.0   \n",
       "41  Asta and Yuno were abandoned at the same churc...  8.15  421.0   \n",
       "5   Hunters devote themselves to accomplishing haz...  9.04    8.0   \n",
       "\n",
       "    popularity  num_list_users           status  num_episodes  \n",
       "10          15         2415660  finished_airing           500  \n",
       "41          60         1608533  finished_airing           170  \n",
       "5           10         2740243  finished_airing           148  "
      ]
     },
     "execution_count": 340,
     "metadata": {},
     "output_type": "execute_result"
    }
   ],
   "source": [
    "animes_destacados_final.sort_values(by='num_episodes', ascending=False).head(3)"
   ]
  },
  {
   "cell_type": "code",
   "execution_count": 350,
   "metadata": {},
   "outputs": [
    {
     "data": {
      "image/png": "[encoded data removed]",
      "text/plain": [
       "<Figure size 720x432 with 1 Axes>"
      ]
     },
     "metadata": {},
     "output_type": "display_data"
    }
   ],
   "source": [
    "plt.figure(figsize=(10, 6))\n",
    "plt.hist(animes_destacados_final['num_episodes'], bins=30, color='skyblue', edgecolor='black')\n",
    "plt.title('Distribución de los Animes por su Número de Episodios')\n",
    "plt.xlabel('N° de Episodios')\n",
    "plt.ylabel('N° de Animes')\n",
    "plt.show()"
   ]
  },
  {
   "cell_type": "code",
   "execution_count": 354,
   "metadata": {},
   "outputs": [
    {
     "data": {
      "text/html": [
       "<div>\n",
       "<style scoped>\n",
       "    .dataframe tbody tr th:only-of-type {\n",
       "        vertical-align: middle;\n",
       "    }\n",
       "\n",
       "    .dataframe tbody tr th {\n",
       "        vertical-align: top;\n",
       "    }\n",
       "\n",
       "    .dataframe thead th {\n",
       "        text-align: right;\n",
       "    }\n",
       "</style>\n",
       "<table border=\"1\" class=\"dataframe\">\n",
       "  <thead>\n",
       "    <tr style=\"text-align: right;\">\n",
       "      <th></th>\n",
       "      <th>id</th>\n",
       "      <th>title</th>\n",
       "      <th>start_date</th>\n",
       "      <th>end_date</th>\n",
       "      <th>synopsis</th>\n",
       "      <th>mean</th>\n",
       "      <th>rank</th>\n",
       "      <th>popularity</th>\n",
       "      <th>num_list_users</th>\n",
       "      <th>status</th>\n",
       "      <th>num_episodes</th>\n",
       "    </tr>\n",
       "  </thead>\n",
       "  <tbody>\n",
       "    <tr>\n",
       "      <th>6</th>\n",
       "      <td>32281</td>\n",
       "      <td>Kimi no Na wa.</td>\n",
       "      <td>2016-08-26</td>\n",
       "      <td>2016-08-26</td>\n",
       "      <td>Mitsuha Miyamizu, a high school girl, yearns t...</td>\n",
       "      <td>8.84</td>\n",
       "      <td>27.0</td>\n",
       "      <td>11</td>\n",
       "      <td>2667200</td>\n",
       "      <td>finished_airing</td>\n",
       "      <td>1</td>\n",
       "    </tr>\n",
       "    <tr>\n",
       "      <th>48</th>\n",
       "      <td>40456</td>\n",
       "      <td>Kimetsu no Yaiba Movie: Mugen Ressha-hen</td>\n",
       "      <td>2020-10-16</td>\n",
       "      <td>2020-10-16</td>\n",
       "      <td>After a string of mysterious disappearances be...</td>\n",
       "      <td>8.60</td>\n",
       "      <td>89.0</td>\n",
       "      <td>76</td>\n",
       "      <td>1472056</td>\n",
       "      <td>finished_airing</td>\n",
       "      <td>1</td>\n",
       "    </tr>\n",
       "    <tr>\n",
       "      <th>14</th>\n",
       "      <td>28851</td>\n",
       "      <td>Koe no Katachi</td>\n",
       "      <td>2016-09-17</td>\n",
       "      <td>2016-09-17</td>\n",
       "      <td>As a wild youth, elementary school student Sho...</td>\n",
       "      <td>8.93</td>\n",
       "      <td>19.0</td>\n",
       "      <td>20</td>\n",
       "      <td>2257629</td>\n",
       "      <td>finished_airing</td>\n",
       "      <td>1</td>\n",
       "    </tr>\n",
       "    <tr>\n",
       "      <th>31</th>\n",
       "      <td>199</td>\n",
       "      <td>Sen to Chihiro no Kamikakushi</td>\n",
       "      <td>2001-07-20</td>\n",
       "      <td>2001-07-20</td>\n",
       "      <td>Stubborn, spoiled, and naïve, 10-year-old Chih...</td>\n",
       "      <td>8.78</td>\n",
       "      <td>38.0</td>\n",
       "      <td>44</td>\n",
       "      <td>1806669</td>\n",
       "      <td>finished_airing</td>\n",
       "      <td>1</td>\n",
       "    </tr>\n",
       "    <tr>\n",
       "      <th>66</th>\n",
       "      <td>431</td>\n",
       "      <td>Howl no Ugoku Shiro</td>\n",
       "      <td>2004-11-20</td>\n",
       "      <td>2004-11-20</td>\n",
       "      <td>That jumbled piece of architecture, that cacop...</td>\n",
       "      <td>8.66</td>\n",
       "      <td>69.0</td>\n",
       "      <td>99</td>\n",
       "      <td>1294537</td>\n",
       "      <td>finished_airing</td>\n",
       "      <td>1</td>\n",
       "    </tr>\n",
       "  </tbody>\n",
       "</table>\n",
       "</div>"
      ],
      "text/plain": [
       "       id                                     title start_date   end_date  \\\n",
       "6   32281                            Kimi no Na wa. 2016-08-26 2016-08-26   \n",
       "48  40456  Kimetsu no Yaiba Movie: Mugen Ressha-hen 2020-10-16 2020-10-16   \n",
       "14  28851                            Koe no Katachi 2016-09-17 2016-09-17   \n",
       "31    199             Sen to Chihiro no Kamikakushi 2001-07-20 2001-07-20   \n",
       "66    431                       Howl no Ugoku Shiro 2004-11-20 2004-11-20   \n",
       "\n",
       "                                             synopsis  mean  rank  popularity  \\\n",
       "6   Mitsuha Miyamizu, a high school girl, yearns t...  8.84  27.0          11   \n",
       "48  After a string of mysterious disappearances be...  8.60  89.0          76   \n",
       "14  As a wild youth, elementary school student Sho...  8.93  19.0          20   \n",
       "31  Stubborn, spoiled, and naïve, 10-year-old Chih...  8.78  38.0          44   \n",
       "66  That jumbled piece of architecture, that cacop...  8.66  69.0          99   \n",
       "\n",
       "    num_list_users           status  num_episodes  \n",
       "6          2667200  finished_airing             1  \n",
       "48         1472056  finished_airing             1  \n",
       "14         2257629  finished_airing             1  \n",
       "31         1806669  finished_airing             1  \n",
       "66         1294537  finished_airing             1  "
      ]
     },
     "execution_count": 354,
     "metadata": {},
     "output_type": "execute_result"
    }
   ],
   "source": [
    "animes_destacados_final.sort_values(by='num_episodes').head(5)"
   ]
  },
  {
   "cell_type": "code",
   "execution_count": 355,
   "metadata": {},
   "outputs": [],
   "source": [
    "animes_a_eliminar = [1735, 34572, 11061, 32281, 40456, 28851, 199, 431]\n",
    "animes_destacados_final = animes_destacados_final.loc[~animes_destacados_final['id'].isin(animes_a_eliminar)]"
   ]
  },
  {
   "cell_type": "markdown",
   "metadata": {},
   "source": [
    "##### Identificamos la presencia de ciertos valores atípicos en la distribución, y es necesario excluirlo del análisis para evitar posibles distorsiones en los resultados.\n",
    "#\n",
    "#"
   ]
  },
  {
   "cell_type": "code",
   "execution_count": 356,
   "metadata": {},
   "outputs": [
    {
     "data": {
      "image/png": "[encoded data removed]",
      "text/plain": [
       "<Figure size 720x432 with 1 Axes>"
      ]
     },
     "metadata": {},
     "output_type": "display_data"
    }
   ],
   "source": [
    "plt.figure(figsize=(10, 6))\n",
    "plt.hist(animes_destacados_final['num_episodes'], bins=30, color='skyblue', edgecolor='black')\n",
    "plt.title('Distribución de los Animes por su Número de Episodios')\n",
    "plt.xlabel('N° de Episodios')\n",
    "plt.ylabel('N° de Animes')\n",
    "plt.show()"
   ]
  },
  {
   "cell_type": "code",
   "execution_count": 357,
   "metadata": {},
   "outputs": [
    {
     "name": "stdout",
     "output_type": "stream",
     "text": [
      "Nueva descripción estadística del N° de episodios de cada anime:\n",
      "\n",
      "count    60.000000\n",
      "mean     19.833333\n",
      "std       9.686907\n",
      "min      10.000000\n",
      "25%      12.000000\n",
      "50%      22.000000\n",
      "75%      25.000000\n",
      "max      64.000000\n",
      "Name: num_episodes, dtype: float64\n"
     ]
    }
   ],
   "source": [
    "print(\"Nueva descripción estadística del N° de episodios de cada anime:\\n\")\n",
    "print(animes_destacados_final['num_episodes'].describe())"
   ]
  },
  {
   "cell_type": "code",
   "execution_count": 361,
   "metadata": {},
   "outputs": [
    {
     "data": {
      "text/html": [
       "<div>\n",
       "<style scoped>\n",
       "    .dataframe tbody tr th:only-of-type {\n",
       "        vertical-align: middle;\n",
       "    }\n",
       "\n",
       "    .dataframe tbody tr th {\n",
       "        vertical-align: top;\n",
       "    }\n",
       "\n",
       "    .dataframe thead th {\n",
       "        text-align: right;\n",
       "    }\n",
       "</style>\n",
       "<table border=\"1\" class=\"dataframe\">\n",
       "  <thead>\n",
       "    <tr style=\"text-align: right;\">\n",
       "      <th></th>\n",
       "      <th>id</th>\n",
       "      <th>title</th>\n",
       "      <th>start_date</th>\n",
       "      <th>end_date</th>\n",
       "      <th>synopsis</th>\n",
       "      <th>mean</th>\n",
       "      <th>rank</th>\n",
       "      <th>popularity</th>\n",
       "      <th>num_list_users</th>\n",
       "      <th>status</th>\n",
       "      <th>num_episodes</th>\n",
       "    </tr>\n",
       "  </thead>\n",
       "  <tbody>\n",
       "    <tr>\n",
       "      <th>32</th>\n",
       "      <td>30</td>\n",
       "      <td>Neon Genesis Evangelion</td>\n",
       "      <td>1995-10-04</td>\n",
       "      <td>1996-03-27</td>\n",
       "      <td>Fifteen years after a cataclysmic event known ...</td>\n",
       "      <td>8.35</td>\n",
       "      <td>208.0</td>\n",
       "      <td>45</td>\n",
       "      <td>1769372</td>\n",
       "      <td>finished_airing</td>\n",
       "      <td>26</td>\n",
       "    </tr>\n",
       "    <tr>\n",
       "      <th>30</th>\n",
       "      <td>1</td>\n",
       "      <td>Cowboy Bebop</td>\n",
       "      <td>1998-04-03</td>\n",
       "      <td>1999-04-24</td>\n",
       "      <td>Crime is timeless. By the year 2071, humanity ...</td>\n",
       "      <td>8.75</td>\n",
       "      <td>44.0</td>\n",
       "      <td>43</td>\n",
       "      <td>1818165</td>\n",
       "      <td>finished_airing</td>\n",
       "      <td>26</td>\n",
       "    </tr>\n",
       "    <tr>\n",
       "      <th>50</th>\n",
       "      <td>121</td>\n",
       "      <td>Fullmetal Alchemist</td>\n",
       "      <td>2003-10-04</td>\n",
       "      <td>2004-10-02</td>\n",
       "      <td>Edward Elric, a young, brilliant alchemist, ha...</td>\n",
       "      <td>8.11</td>\n",
       "      <td>460.0</td>\n",
       "      <td>78</td>\n",
       "      <td>1448079</td>\n",
       "      <td>finished_airing</td>\n",
       "      <td>51</td>\n",
       "    </tr>\n",
       "    <tr>\n",
       "      <th>1</th>\n",
       "      <td>1535</td>\n",
       "      <td>Death Note</td>\n",
       "      <td>2006-10-04</td>\n",
       "      <td>2007-06-27</td>\n",
       "      <td>Brutal murders, petty thefts, and senseless vi...</td>\n",
       "      <td>8.62</td>\n",
       "      <td>83.0</td>\n",
       "      <td>2</td>\n",
       "      <td>3804024</td>\n",
       "      <td>finished_airing</td>\n",
       "      <td>37</td>\n",
       "    </tr>\n",
       "    <tr>\n",
       "      <th>15</th>\n",
       "      <td>1575</td>\n",
       "      <td>Code Geass: Hangyaku no Lelouch</td>\n",
       "      <td>2006-10-06</td>\n",
       "      <td>2007-07-29</td>\n",
       "      <td>In the year 2010, the Holy Empire of Britannia...</td>\n",
       "      <td>8.70</td>\n",
       "      <td>56.0</td>\n",
       "      <td>21</td>\n",
       "      <td>2200278</td>\n",
       "      <td>finished_airing</td>\n",
       "      <td>25</td>\n",
       "    </tr>\n",
       "    <tr>\n",
       "      <th>44</th>\n",
       "      <td>2001</td>\n",
       "      <td>Tengen Toppa Gurren Lagann</td>\n",
       "      <td>2007-04-01</td>\n",
       "      <td>2007-09-30</td>\n",
       "      <td>Simon and Kamina were born and raised in a dee...</td>\n",
       "      <td>8.63</td>\n",
       "      <td>78.0</td>\n",
       "      <td>65</td>\n",
       "      <td>1578941</td>\n",
       "      <td>finished_airing</td>\n",
       "      <td>27</td>\n",
       "    </tr>\n",
       "    <tr>\n",
       "      <th>57</th>\n",
       "      <td>2167</td>\n",
       "      <td>Clannad</td>\n",
       "      <td>2007-10-05</td>\n",
       "      <td>2008-03-28</td>\n",
       "      <td>Tomoya Okazaki is a delinquent who finds life ...</td>\n",
       "      <td>8.00</td>\n",
       "      <td>614.0</td>\n",
       "      <td>87</td>\n",
       "      <td>1393009</td>\n",
       "      <td>finished_airing</td>\n",
       "      <td>23</td>\n",
       "    </tr>\n",
       "    <tr>\n",
       "      <th>33</th>\n",
       "      <td>2904</td>\n",
       "      <td>Code Geass: Hangyaku no Lelouch R2</td>\n",
       "      <td>2008-04-06</td>\n",
       "      <td>2008-09-28</td>\n",
       "      <td>One year has passed since the Black Rebellion,...</td>\n",
       "      <td>8.91</td>\n",
       "      <td>20.0</td>\n",
       "      <td>47</td>\n",
       "      <td>1739629</td>\n",
       "      <td>finished_airing</td>\n",
       "      <td>25</td>\n",
       "    </tr>\n",
       "    <tr>\n",
       "      <th>17</th>\n",
       "      <td>4224</td>\n",
       "      <td>Toradora!</td>\n",
       "      <td>2008-10-02</td>\n",
       "      <td>2009-03-26</td>\n",
       "      <td>Ryuuji Takasu is a gentle high school student ...</td>\n",
       "      <td>8.07</td>\n",
       "      <td>519.0</td>\n",
       "      <td>23</td>\n",
       "      <td>2161851</td>\n",
       "      <td>finished_airing</td>\n",
       "      <td>25</td>\n",
       "    </tr>\n",
       "    <tr>\n",
       "      <th>60</th>\n",
       "      <td>5081</td>\n",
       "      <td>Bakemonogatari</td>\n",
       "      <td>2009-07-03</td>\n",
       "      <td>2010-06-25</td>\n",
       "      <td>Koyomi Araragi, a third-year high school stude...</td>\n",
       "      <td>8.33</td>\n",
       "      <td>225.0</td>\n",
       "      <td>90</td>\n",
       "      <td>1376954</td>\n",
       "      <td>finished_airing</td>\n",
       "      <td>15</td>\n",
       "    </tr>\n",
       "  </tbody>\n",
       "</table>\n",
       "</div>"
      ],
      "text/plain": [
       "      id                               title start_date   end_date  \\\n",
       "32    30             Neon Genesis Evangelion 1995-10-04 1996-03-27   \n",
       "30     1                        Cowboy Bebop 1998-04-03 1999-04-24   \n",
       "50   121                 Fullmetal Alchemist 2003-10-04 2004-10-02   \n",
       "1   1535                          Death Note 2006-10-04 2007-06-27   \n",
       "15  1575     Code Geass: Hangyaku no Lelouch 2006-10-06 2007-07-29   \n",
       "44  2001          Tengen Toppa Gurren Lagann 2007-04-01 2007-09-30   \n",
       "57  2167                             Clannad 2007-10-05 2008-03-28   \n",
       "33  2904  Code Geass: Hangyaku no Lelouch R2 2008-04-06 2008-09-28   \n",
       "17  4224                           Toradora! 2008-10-02 2009-03-26   \n",
       "60  5081                      Bakemonogatari 2009-07-03 2010-06-25   \n",
       "\n",
       "                                             synopsis  mean   rank  \\\n",
       "32  Fifteen years after a cataclysmic event known ...  8.35  208.0   \n",
       "30  Crime is timeless. By the year 2071, humanity ...  8.75   44.0   \n",
       "50  Edward Elric, a young, brilliant alchemist, ha...  8.11  460.0   \n",
       "1   Brutal murders, petty thefts, and senseless vi...  8.62   83.0   \n",
       "15  In the year 2010, the Holy Empire of Britannia...  8.70   56.0   \n",
       "44  Simon and Kamina were born and raised in a dee...  8.63   78.0   \n",
       "57  Tomoya Okazaki is a delinquent who finds life ...  8.00  614.0   \n",
       "33  One year has passed since the Black Rebellion,...  8.91   20.0   \n",
       "17  Ryuuji Takasu is a gentle high school student ...  8.07  519.0   \n",
       "60  Koyomi Araragi, a third-year high school stude...  8.33  225.0   \n",
       "\n",
       "    popularity  num_list_users           status  num_episodes  \n",
       "32          45         1769372  finished_airing            26  \n",
       "30          43         1818165  finished_airing            26  \n",
       "50          78         1448079  finished_airing            51  \n",
       "1            2         3804024  finished_airing            37  \n",
       "15          21         2200278  finished_airing            25  \n",
       "44          65         1578941  finished_airing            27  \n",
       "57          87         1393009  finished_airing            23  \n",
       "33          47         1739629  finished_airing            25  \n",
       "17          23         2161851  finished_airing            25  \n",
       "60          90         1376954  finished_airing            15  "
      ]
     },
     "execution_count": 361,
     "metadata": {},
     "output_type": "execute_result"
    }
   ],
   "source": [
    "# Posibles candidatos a ser animes de culto\n",
    "animes_destacados_final.sort_values(by='end_date').head(10)"
   ]
  },
  {
   "cell_type": "markdown",
   "metadata": {},
   "source": [
    "#\n",
    "### En conclusión, obtenemos una selección de posibles candidatos a ser considerados animes de culto. No obstante, es fundamental reconocer que la noción de \"anime de culto\" puede variar según las preferencias y percepciones individuales. Sin embargo, esta condición puede ser extrapolada a factores como el impacto, la longevidad y la conexión con la audiencia. Este análisis intenta proporcionar una visión integral que pueda contribuir a la comprensión de las características que distinguen a los animes de culto en la comunidad."
   ]
  }
 ],
 "metadata": {
  "kernelspec": {
   "display_name": "Python 3",
   "language": "python",
   "name": "python3"
  },
  "language_info": {
   "codemirror_mode": {
    "name": "ipython",
    "version": 3
   },
   "file_extension": ".py",
   "mimetype": "text/x-python",
   "name": "python",
   "nbconvert_exporter": "python",
   "pygments_lexer": "ipython3",
   "version": "3.10.11"
  }
 },
 "nbformat": 4,
 "nbformat_minor": 2
}
