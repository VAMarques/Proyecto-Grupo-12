{
 "cells": [
  {
   "cell_type": "markdown",
   "metadata": {},
   "source": [
    "## EDA: MyAnimeList\n",
    "###\n",
    "##### A continuación importamos las librerías que utilizaremos para el análisis."
   ]
  },
  {
   "cell_type": "code",
   "execution_count": 2,
   "metadata": {},
   "outputs": [],
   "source": [
    "import pandas as pd\n",
    "import requests\n",
    "import numpy as np\n",
    "import json\n",
    "from bs4 import BeautifulSoup as bs\n",
    "import random\n",
    "import time\n",
    "import os\n",
    "import json\n",
    "import pickle\n",
    "import matplotlib.pyplot as plt\n",
    "import seaborn as sns"
   ]
  },
  {
   "cell_type": "markdown",
   "metadata": {},
   "source": [
    "## Cargar Datos\n",
    "####\n",
    "##### Accedemos al archivo CSV que almacena los detalles de los animes en MAL"
   ]
  },
  {
   "cell_type": "code",
   "execution_count": 3,
   "metadata": {},
   "outputs": [],
   "source": [
    "MAL_df = pd.read_csv('../data/MAL_dataframe.csv')"
   ]
  },
  {
   "cell_type": "code",
   "execution_count": 4,
   "metadata": {},
   "outputs": [
    {
     "data": {
      "text/html": [
       "<div>\n",
       "<style scoped>\n",
       "    .dataframe tbody tr th:only-of-type {\n",
       "        vertical-align: middle;\n",
       "    }\n",
       "\n",
       "    .dataframe tbody tr th {\n",
       "        vertical-align: top;\n",
       "    }\n",
       "\n",
       "    .dataframe thead th {\n",
       "        text-align: right;\n",
       "    }\n",
       "</style>\n",
       "<table border=\"1\" class=\"dataframe\">\n",
       "  <thead>\n",
       "    <tr style=\"text-align: right;\">\n",
       "      <th></th>\n",
       "      <th>id</th>\n",
       "      <th>title</th>\n",
       "      <th>main_picture</th>\n",
       "      <th>alternative_titles</th>\n",
       "      <th>start_date</th>\n",
       "      <th>end_date</th>\n",
       "      <th>synopsis</th>\n",
       "      <th>mean</th>\n",
       "      <th>rank</th>\n",
       "      <th>popularity</th>\n",
       "      <th>num_list_users</th>\n",
       "      <th>num_scoring_users</th>\n",
       "      <th>media_type</th>\n",
       "      <th>status</th>\n",
       "      <th>num_episodes</th>\n",
       "      <th>start_season</th>\n",
       "      <th>studios</th>\n",
       "    </tr>\n",
       "  </thead>\n",
       "  <tbody>\n",
       "    <tr>\n",
       "      <th>0</th>\n",
       "      <td>1</td>\n",
       "      <td>Cowboy Bebop</td>\n",
       "      <td>{'medium': 'https://cdn.myanimelist.net/images...</td>\n",
       "      <td>{'synonyms': [], 'en': 'Cowboy Bebop', 'ja': '...</td>\n",
       "      <td>1998-04-03</td>\n",
       "      <td>1999-04-24</td>\n",
       "      <td>Crime is timeless. By the year 2071, humanity ...</td>\n",
       "      <td>8.75</td>\n",
       "      <td>44.0</td>\n",
       "      <td>43</td>\n",
       "      <td>1818165</td>\n",
       "      <td>939118</td>\n",
       "      <td>tv</td>\n",
       "      <td>finished_airing</td>\n",
       "      <td>26</td>\n",
       "      <td>{'year': 1998, 'season': 'spring'}</td>\n",
       "      <td>[{'id': 14, 'name': 'Sunrise'}]</td>\n",
       "    </tr>\n",
       "    <tr>\n",
       "      <th>1</th>\n",
       "      <td>32772</td>\n",
       "      <td>Puzzle &amp; Dragons Cross</td>\n",
       "      <td>{'medium': 'https://cdn.myanimelist.net/images...</td>\n",
       "      <td>{'synonyms': ['PazuDora Cross'], 'en': 'Puzzle...</td>\n",
       "      <td>2016-07-04</td>\n",
       "      <td>2018-03-26</td>\n",
       "      <td>Dorogoza Island is rich in \"Drop Energy\" that ...</td>\n",
       "      <td>6.49</td>\n",
       "      <td>6728.0</td>\n",
       "      <td>6665</td>\n",
       "      <td>8409</td>\n",
       "      <td>2300</td>\n",
       "      <td>tv</td>\n",
       "      <td>finished_airing</td>\n",
       "      <td>89</td>\n",
       "      <td>{'year': 2016, 'season': 'summer'}</td>\n",
       "      <td>[{'id': 1, 'name': 'Pierrot'}]</td>\n",
       "    </tr>\n",
       "    <tr>\n",
       "      <th>2</th>\n",
       "      <td>5</td>\n",
       "      <td>Cowboy Bebop: Tengoku no Tobira</td>\n",
       "      <td>{'medium': 'https://cdn.myanimelist.net/images...</td>\n",
       "      <td>{'synonyms': [\"Cowboy Bebop: Knockin' on Heave...</td>\n",
       "      <td>2001-09-01</td>\n",
       "      <td>2001-09-01</td>\n",
       "      <td>Another day, another bounty—such is the life o...</td>\n",
       "      <td>8.38</td>\n",
       "      <td>194.0</td>\n",
       "      <td>610</td>\n",
       "      <td>369342</td>\n",
       "      <td>210529</td>\n",
       "      <td>movie</td>\n",
       "      <td>finished_airing</td>\n",
       "      <td>1</td>\n",
       "      <td>{'year': 2001, 'season': 'summer'}</td>\n",
       "      <td>[{'id': 4, 'name': 'Bones'}]</td>\n",
       "    </tr>\n",
       "    <tr>\n",
       "      <th>3</th>\n",
       "      <td>6</td>\n",
       "      <td>Trigun</td>\n",
       "      <td>{'medium': 'https://cdn.myanimelist.net/images...</td>\n",
       "      <td>{'synonyms': [], 'en': 'Trigun', 'ja': 'トライガン'}</td>\n",
       "      <td>1998-04-01</td>\n",
       "      <td>1998-09-30</td>\n",
       "      <td>Vash the Stampede is the man with a $$60,000,0...</td>\n",
       "      <td>8.22</td>\n",
       "      <td>334.0</td>\n",
       "      <td>248</td>\n",
       "      <td>745104</td>\n",
       "      <td>364884</td>\n",
       "      <td>tv</td>\n",
       "      <td>finished_airing</td>\n",
       "      <td>26</td>\n",
       "      <td>{'year': 1998, 'season': 'spring'}</td>\n",
       "      <td>[{'id': 11, 'name': 'Madhouse'}]</td>\n",
       "    </tr>\n",
       "    <tr>\n",
       "      <th>4</th>\n",
       "      <td>7</td>\n",
       "      <td>Witch Hunter Robin</td>\n",
       "      <td>{'medium': 'https://cdn.myanimelist.net/images...</td>\n",
       "      <td>{'synonyms': ['WHR'], 'en': 'Witch Hunter Robi...</td>\n",
       "      <td>2002-07-03</td>\n",
       "      <td>2002-12-25</td>\n",
       "      <td>Robin Sena is a powerful craft user drafted in...</td>\n",
       "      <td>7.24</td>\n",
       "      <td>2942.0</td>\n",
       "      <td>1825</td>\n",
       "      <td>114294</td>\n",
       "      <td>43323</td>\n",
       "      <td>tv</td>\n",
       "      <td>finished_airing</td>\n",
       "      <td>26</td>\n",
       "      <td>{'year': 2002, 'season': 'summer'}</td>\n",
       "      <td>[{'id': 14, 'name': 'Sunrise'}]</td>\n",
       "    </tr>\n",
       "  </tbody>\n",
       "</table>\n",
       "</div>"
      ],
      "text/plain": [
       "      id                            title  \\\n",
       "0      1                     Cowboy Bebop   \n",
       "1  32772           Puzzle & Dragons Cross   \n",
       "2      5  Cowboy Bebop: Tengoku no Tobira   \n",
       "3      6                           Trigun   \n",
       "4      7               Witch Hunter Robin   \n",
       "\n",
       "                                        main_picture  \\\n",
       "0  {'medium': 'https://cdn.myanimelist.net/images...   \n",
       "1  {'medium': 'https://cdn.myanimelist.net/images...   \n",
       "2  {'medium': 'https://cdn.myanimelist.net/images...   \n",
       "3  {'medium': 'https://cdn.myanimelist.net/images...   \n",
       "4  {'medium': 'https://cdn.myanimelist.net/images...   \n",
       "\n",
       "                                  alternative_titles  start_date    end_date  \\\n",
       "0  {'synonyms': [], 'en': 'Cowboy Bebop', 'ja': '...  1998-04-03  1999-04-24   \n",
       "1  {'synonyms': ['PazuDora Cross'], 'en': 'Puzzle...  2016-07-04  2018-03-26   \n",
       "2  {'synonyms': [\"Cowboy Bebop: Knockin' on Heave...  2001-09-01  2001-09-01   \n",
       "3    {'synonyms': [], 'en': 'Trigun', 'ja': 'トライガン'}  1998-04-01  1998-09-30   \n",
       "4  {'synonyms': ['WHR'], 'en': 'Witch Hunter Robi...  2002-07-03  2002-12-25   \n",
       "\n",
       "                                            synopsis  mean    rank  \\\n",
       "0  Crime is timeless. By the year 2071, humanity ...  8.75    44.0   \n",
       "1  Dorogoza Island is rich in \"Drop Energy\" that ...  6.49  6728.0   \n",
       "2  Another day, another bounty—such is the life o...  8.38   194.0   \n",
       "3  Vash the Stampede is the man with a $$60,000,0...  8.22   334.0   \n",
       "4  Robin Sena is a powerful craft user drafted in...  7.24  2942.0   \n",
       "\n",
       "   popularity  num_list_users  num_scoring_users media_type           status  \\\n",
       "0          43         1818165             939118         tv  finished_airing   \n",
       "1        6665            8409               2300         tv  finished_airing   \n",
       "2         610          369342             210529      movie  finished_airing   \n",
       "3         248          745104             364884         tv  finished_airing   \n",
       "4        1825          114294              43323         tv  finished_airing   \n",
       "\n",
       "   num_episodes                        start_season  \\\n",
       "0            26  {'year': 1998, 'season': 'spring'}   \n",
       "1            89  {'year': 2016, 'season': 'summer'}   \n",
       "2             1  {'year': 2001, 'season': 'summer'}   \n",
       "3            26  {'year': 1998, 'season': 'spring'}   \n",
       "4            26  {'year': 2002, 'season': 'summer'}   \n",
       "\n",
       "                            studios  \n",
       "0   [{'id': 14, 'name': 'Sunrise'}]  \n",
       "1    [{'id': 1, 'name': 'Pierrot'}]  \n",
       "2      [{'id': 4, 'name': 'Bones'}]  \n",
       "3  [{'id': 11, 'name': 'Madhouse'}]  \n",
       "4   [{'id': 14, 'name': 'Sunrise'}]  "
      ]
     },
     "execution_count": 4,
     "metadata": {},
     "output_type": "execute_result"
    }
   ],
   "source": [
    "MAL_df.head()"
   ]
  },
  {
   "cell_type": "markdown",
   "metadata": {},
   "source": [
    "#####\n",
    "##### A continuación, llevaremos a cabo la limpieza del DataFrame, centrándonos en uno de los objetivos definidos en la propuesta del proyecto: la identificación de los animes de culto o 'clásicos'. Además, estaremos atentos a posibles análisis adicionales que puedan surgir durante el proceso del EDA y que resulten útiles para el proyecto.\n",
    "##### "
   ]
  },
  {
   "cell_type": "code",
   "execution_count": 5,
   "metadata": {},
   "outputs": [],
   "source": [
    "# Eliminamos columnas que podrían no ser fundamentales al momento de considerar un anime culto.\n",
    "MAL_df_clean = MAL_df.drop(columns=[ 'main_picture', 'alternative_titles', 'media_type', \n",
    "       'start_season', 'studios'])"
   ]
  },
  {
   "cell_type": "code",
   "execution_count": 6,
   "metadata": {},
   "outputs": [],
   "source": [
    "# Convertimos estas columnas a tipo de dato fecha para darles un mejor uso posteriormente.\n",
    "MAL_df_clean['start_date'] = pd.to_datetime(MAL_df_clean['start_date'])\n",
    "MAL_df_clean['end_date'] = pd.to_datetime(MAL_df_clean['end_date'])"
   ]
  },
  {
   "cell_type": "code",
   "execution_count": 7,
   "metadata": {},
   "outputs": [
    {
     "name": "stdout",
     "output_type": "stream",
     "text": [
      "<class 'pandas.core.frame.DataFrame'>\n",
      "RangeIndex: 8978 entries, 0 to 8977\n",
      "Data columns (total 12 columns):\n",
      " #   Column             Non-Null Count  Dtype         \n",
      "---  ------             --------------  -----         \n",
      " 0   id                 8978 non-null   int64         \n",
      " 1   title              8978 non-null   object        \n",
      " 2   start_date         8976 non-null   datetime64[ns]\n",
      " 3   end_date           8977 non-null   datetime64[ns]\n",
      " 4   synopsis           8900 non-null   object        \n",
      " 5   mean               8908 non-null   float64       \n",
      " 6   rank               8474 non-null   float64       \n",
      " 7   popularity         8978 non-null   int64         \n",
      " 8   num_list_users     8978 non-null   int64         \n",
      " 9   num_scoring_users  8978 non-null   int64         \n",
      " 10  status             8978 non-null   object        \n",
      " 11  num_episodes       8978 non-null   int64         \n",
      "dtypes: datetime64[ns](2), float64(2), int64(5), object(3)\n",
      "memory usage: 841.8+ KB\n"
     ]
    }
   ],
   "source": [
    "MAL_df_clean.info()"
   ]
  },
  {
   "cell_type": "code",
   "execution_count": 8,
   "metadata": {},
   "outputs": [
    {
     "name": "stdout",
     "output_type": "stream",
     "text": [
      "Datos duplicados: False\n",
      "N° de datos duplicados: 0\n",
      "Datos nulos:  True\n",
      "N° de datos nulos:  655\n"
     ]
    }
   ],
   "source": [
    "# Verificamos si es que existen duplicados en el DataFrame entero y cuantos en caso de que existan.\n",
    "# Realizaremos el mismo proceso para los datos nulos.\n",
    "\n",
    "print(f'Datos duplicados:', MAL_df_clean.duplicated().any())\n",
    "print(f'N° de datos duplicados:', MAL_df_clean.duplicated().sum())\n",
    "print(f'Datos nulos: ', MAL_df_clean.isnull().any().any())\n",
    "print(f'N° de datos nulos: ', MAL_df_clean.isnull().sum().sum())\n"
   ]
  },
  {
   "cell_type": "code",
   "execution_count": 9,
   "metadata": {},
   "outputs": [
    {
     "data": {
      "text/plain": [
       "id                     0\n",
       "title                  0\n",
       "start_date             2\n",
       "end_date               1\n",
       "synopsis              78\n",
       "mean                  70\n",
       "rank                 504\n",
       "popularity             0\n",
       "num_list_users         0\n",
       "num_scoring_users      0\n",
       "status                 0\n",
       "num_episodes           0\n",
       "dtype: int64"
      ]
     },
     "execution_count": 9,
     "metadata": {},
     "output_type": "execute_result"
    }
   ],
   "source": [
    "MAL_df_clean.isnull().sum()"
   ]
  },
  {
   "cell_type": "code",
   "execution_count": 10,
   "metadata": {},
   "outputs": [
    {
     "data": {
      "text/html": [
       "<div>\n",
       "<style scoped>\n",
       "    .dataframe tbody tr th:only-of-type {\n",
       "        vertical-align: middle;\n",
       "    }\n",
       "\n",
       "    .dataframe tbody tr th {\n",
       "        vertical-align: top;\n",
       "    }\n",
       "\n",
       "    .dataframe thead th {\n",
       "        text-align: right;\n",
       "    }\n",
       "</style>\n",
       "<table border=\"1\" class=\"dataframe\">\n",
       "  <thead>\n",
       "    <tr style=\"text-align: right;\">\n",
       "      <th></th>\n",
       "      <th>id</th>\n",
       "      <th>title</th>\n",
       "      <th>start_date</th>\n",
       "      <th>end_date</th>\n",
       "      <th>synopsis</th>\n",
       "      <th>mean</th>\n",
       "      <th>rank</th>\n",
       "      <th>popularity</th>\n",
       "      <th>num_list_users</th>\n",
       "      <th>num_scoring_users</th>\n",
       "      <th>status</th>\n",
       "      <th>num_episodes</th>\n",
       "    </tr>\n",
       "  </thead>\n",
       "  <tbody>\n",
       "    <tr>\n",
       "      <th>2696</th>\n",
       "      <td>33187</td>\n",
       "      <td>Katsudou Shashin</td>\n",
       "      <td>NaT</td>\n",
       "      <td>NaT</td>\n",
       "      <td>A young boy dressed in sailor attire and a bri...</td>\n",
       "      <td>5.48</td>\n",
       "      <td>11422.0</td>\n",
       "      <td>6860</td>\n",
       "      <td>7894</td>\n",
       "      <td>4660</td>\n",
       "      <td>finished_airing</td>\n",
       "      <td>1</td>\n",
       "    </tr>\n",
       "    <tr>\n",
       "      <th>8550</th>\n",
       "      <td>30840</td>\n",
       "      <td>Many Things SD Gundam</td>\n",
       "      <td>NaT</td>\n",
       "      <td>2011-07-22</td>\n",
       "      <td>Specials included on SD Gundam Collection Box.</td>\n",
       "      <td>5.00</td>\n",
       "      <td>12520.0</td>\n",
       "      <td>12719</td>\n",
       "      <td>1085</td>\n",
       "      <td>302</td>\n",
       "      <td>finished_airing</td>\n",
       "      <td>2</td>\n",
       "    </tr>\n",
       "  </tbody>\n",
       "</table>\n",
       "</div>"
      ],
      "text/plain": [
       "         id                  title start_date   end_date  \\\n",
       "2696  33187       Katsudou Shashin        NaT        NaT   \n",
       "8550  30840  Many Things SD Gundam        NaT 2011-07-22   \n",
       "\n",
       "                                               synopsis  mean     rank  \\\n",
       "2696  A young boy dressed in sailor attire and a bri...  5.48  11422.0   \n",
       "8550     Specials included on SD Gundam Collection Box.  5.00  12520.0   \n",
       "\n",
       "      popularity  num_list_users  num_scoring_users           status  \\\n",
       "2696        6860            7894               4660  finished_airing   \n",
       "8550       12719            1085                302  finished_airing   \n",
       "\n",
       "      num_episodes  \n",
       "2696             1  \n",
       "8550             2  "
      ]
     },
     "execution_count": 10,
     "metadata": {},
     "output_type": "execute_result"
    }
   ],
   "source": [
    "filas_nulas_star_date = MAL_df_clean[MAL_df_clean['start_date'].isnull()]\n",
    "filas_nulas_star_date"
   ]
  },
  {
   "cell_type": "code",
   "execution_count": 11,
   "metadata": {},
   "outputs": [],
   "source": [
    "MAL_df_clean = MAL_df_clean.drop(2696)"
   ]
  },
  {
   "cell_type": "code",
   "execution_count": 12,
   "metadata": {},
   "outputs": [
    {
     "name": "stderr",
     "output_type": "stream",
     "text": [
      "C:\\Users\\56936\\AppData\\Local\\Temp\\ipykernel_16624\\719342837.py:1: SettingWithCopyWarning: \n",
      "A value is trying to be set on a copy of a slice from a DataFrame\n",
      "\n",
      "See the caveats in the documentation: https://pandas.pydata.org/pandas-docs/stable/user_guide/indexing.html#returning-a-view-versus-a-copy\n",
      "  MAL_df_clean['start_date'][8550] = np.datetime64('2011-01-01')\n"
     ]
    },
    {
     "data": {
      "text/plain": [
       "Timestamp('2015-04-07 00:00:00')"
      ]
     },
     "execution_count": 12,
     "metadata": {},
     "output_type": "execute_result"
    }
   ],
   "source": [
    "MAL_df_clean['start_date'][8550] = np.datetime64('2011-01-01')\n",
    "MAL_df_clean.iloc[8550]['start_date']"
   ]
  },
  {
   "cell_type": "markdown",
   "metadata": {},
   "source": [
    "##### Identificamos un anime que carece tanto de fecha de inicio como de fecha de finalización de emisión. Dado que no contamos con información completa sobre su periodo de emisión, hemos decidido no incluir este anime en nuestro análisis. No obstante, hay otro anime que únicamente carece de la fecha de inicio. Optamos por incluir este último en nuestro análisis, ya que pudimos obtener la información faltante de manera verificada a través de este sitio: https://gachax.com/anime/db/many-things-sd-gundam/\n",
    "####\n",
    "####\n",
    "####"
   ]
  },
  {
   "cell_type": "code",
   "execution_count": 24,
   "metadata": {},
   "outputs": [
    {
     "name": "stdout",
     "output_type": "stream",
     "text": [
      "N° de animes con valores nulos en la columna de promedio: 70\n"
     ]
    }
   ],
   "source": [
    "filas_nulas_mean = MAL_df_clean[MAL_df_clean['mean'].isnull()]\n",
    "print(f'N° de animes con valores nulos en la columna de promedio:', len(filas_nulas_mean))"
   ]
  },
  {
   "cell_type": "code",
   "execution_count": 22,
   "metadata": {},
   "outputs": [
    {
     "name": "stdout",
     "output_type": "stream",
     "text": [
      "N° de animes con valores nulos en la columna de ranking: 504\n"
     ]
    }
   ],
   "source": [
    "filas_nulas_rank = MAL_df_clean[MAL_df_clean['rank'].isnull()]\n",
    "print(f'N° de animes con valores nulos en la columna de ranking:', len(filas_nulas_rank))"
   ]
  },
  {
   "cell_type": "code",
   "execution_count": 21,
   "metadata": {},
   "outputs": [
    {
     "name": "stdout",
     "output_type": "stream",
     "text": [
      "N° de animes con valores nulos en la columna de ranking y promedio: 27\n"
     ]
    }
   ],
   "source": [
    "nulos_mean_rank = MAL_df_clean[MAL_df_clean[['rank', 'mean']].isnull().all(axis=1)]\n",
    "print(f'N° de animes con valores nulos en la columna de ranking y promedio:', len(nulos_mean_rank))"
   ]
  },
  {
   "cell_type": "code",
   "execution_count": 25,
   "metadata": {},
   "outputs": [],
   "source": [
    "MAL_df_clean = MAL_df_clean.dropna(subset=['mean'])\n",
    "MAL_df_clean = MAL_df_clean.dropna(subset=['rank'])"
   ]
  },
  {
   "cell_type": "markdown",
   "metadata": {},
   "source": [
    "##### Después de investigar el funcionamiento del sistema de puntuaciones de MAL, que se detalla en el siguiente enlace: https://myanimelist.net/info.php?go=topanime, llegamos a la conclusión de que la presencia de valores nulos en las columnas 'mean' y 'rank' podría tener un impacto en la fiabilidad de la puntuación. Esto podría indicar que la entrada en cuestión no ha recibido suficientes puntuaciones para calcular una puntuación ponderada confiable, posiblemente debido a que es menos conocida o reciente. Dado que nuestro análisis se centra en evaluar la calidad general de los animes, consideramos útil excluir las entradas con valores nulos para obtener una visión más precisa  \n",
    "#\n",
    "#\n",
    "#"
   ]
  },
  {
   "cell_type": "code",
   "execution_count": 16,
   "metadata": {},
   "outputs": [
    {
     "data": {
      "text/html": [
       "<div>\n",
       "<style scoped>\n",
       "    .dataframe tbody tr th:only-of-type {\n",
       "        vertical-align: middle;\n",
       "    }\n",
       "\n",
       "    .dataframe tbody tr th {\n",
       "        vertical-align: top;\n",
       "    }\n",
       "\n",
       "    .dataframe thead th {\n",
       "        text-align: right;\n",
       "    }\n",
       "</style>\n",
       "<table border=\"1\" class=\"dataframe\">\n",
       "  <thead>\n",
       "    <tr style=\"text-align: right;\">\n",
       "      <th></th>\n",
       "      <th>id</th>\n",
       "      <th>title</th>\n",
       "      <th>start_date</th>\n",
       "      <th>end_date</th>\n",
       "      <th>synopsis</th>\n",
       "      <th>mean</th>\n",
       "      <th>rank</th>\n",
       "      <th>popularity</th>\n",
       "      <th>num_list_users</th>\n",
       "      <th>num_scoring_users</th>\n",
       "      <th>status</th>\n",
       "      <th>num_episodes</th>\n",
       "    </tr>\n",
       "  </thead>\n",
       "  <tbody>\n",
       "    <tr>\n",
       "      <th>523</th>\n",
       "      <td>33308</td>\n",
       "      <td>Tantei Opera Milky Holmes: Fun Fun Party Night...</td>\n",
       "      <td>2016-12-31</td>\n",
       "      <td>2016-12-31</td>\n",
       "      <td>NaN</td>\n",
       "      <td>6.67</td>\n",
       "      <td>5689.0</td>\n",
       "      <td>10355</td>\n",
       "      <td>2410</td>\n",
       "      <td>751</td>\n",
       "      <td>finished_airing</td>\n",
       "      <td>1</td>\n",
       "    </tr>\n",
       "    <tr>\n",
       "      <th>1177</th>\n",
       "      <td>34032</td>\n",
       "      <td>King of Prism: Pride the Hero</td>\n",
       "      <td>2017-06-10</td>\n",
       "      <td>2017-06-10</td>\n",
       "      <td>NaN</td>\n",
       "      <td>6.87</td>\n",
       "      <td>4715.0</td>\n",
       "      <td>8505</td>\n",
       "      <td>4562</td>\n",
       "      <td>1077</td>\n",
       "      <td>finished_airing</td>\n",
       "      <td>1</td>\n",
       "    </tr>\n",
       "    <tr>\n",
       "      <th>1661</th>\n",
       "      <td>34552</td>\n",
       "      <td>Dream Festival! R</td>\n",
       "      <td>2017-08-23</td>\n",
       "      <td>2017-11-08</td>\n",
       "      <td>NaN</td>\n",
       "      <td>6.83</td>\n",
       "      <td>4901.0</td>\n",
       "      <td>8048</td>\n",
       "      <td>5300</td>\n",
       "      <td>1982</td>\n",
       "      <td>finished_airing</td>\n",
       "      <td>12</td>\n",
       "    </tr>\n",
       "    <tr>\n",
       "      <th>2024</th>\n",
       "      <td>35081</td>\n",
       "      <td>The iDOLM@STER Million Live! 4-shuunen Kinen PV</td>\n",
       "      <td>2017-03-12</td>\n",
       "      <td>2017-03-12</td>\n",
       "      <td>NaN</td>\n",
       "      <td>6.52</td>\n",
       "      <td>6552.0</td>\n",
       "      <td>10112</td>\n",
       "      <td>2600</td>\n",
       "      <td>739</td>\n",
       "      <td>finished_airing</td>\n",
       "      <td>1</td>\n",
       "    </tr>\n",
       "    <tr>\n",
       "      <th>2026</th>\n",
       "      <td>33035</td>\n",
       "      <td>Yuyushiki: Komarasetari, Komarasaretari</td>\n",
       "      <td>2017-02-22</td>\n",
       "      <td>2017-02-22</td>\n",
       "      <td>NaN</td>\n",
       "      <td>7.31</td>\n",
       "      <td>2589.0</td>\n",
       "      <td>5647</td>\n",
       "      <td>12661</td>\n",
       "      <td>5473</td>\n",
       "      <td>finished_airing</td>\n",
       "      <td>1</td>\n",
       "    </tr>\n",
       "  </tbody>\n",
       "</table>\n",
       "</div>"
      ],
      "text/plain": [
       "         id                                              title start_date  \\\n",
       "523   33308  Tantei Opera Milky Holmes: Fun Fun Party Night... 2016-12-31   \n",
       "1177  34032                      King of Prism: Pride the Hero 2017-06-10   \n",
       "1661  34552                                  Dream Festival! R 2017-08-23   \n",
       "2024  35081    The iDOLM@STER Million Live! 4-shuunen Kinen PV 2017-03-12   \n",
       "2026  33035            Yuyushiki: Komarasetari, Komarasaretari 2017-02-22   \n",
       "\n",
       "       end_date synopsis  mean    rank  popularity  num_list_users  \\\n",
       "523  2016-12-31      NaN  6.67  5689.0       10355            2410   \n",
       "1177 2017-06-10      NaN  6.87  4715.0        8505            4562   \n",
       "1661 2017-11-08      NaN  6.83  4901.0        8048            5300   \n",
       "2024 2017-03-12      NaN  6.52  6552.0       10112            2600   \n",
       "2026 2017-02-22      NaN  7.31  2589.0        5647           12661   \n",
       "\n",
       "      num_scoring_users           status  num_episodes  \n",
       "523                 751  finished_airing             1  \n",
       "1177               1077  finished_airing             1  \n",
       "1661               1982  finished_airing            12  \n",
       "2024                739  finished_airing             1  \n",
       "2026               5473  finished_airing             1  "
      ]
     },
     "execution_count": 16,
     "metadata": {},
     "output_type": "execute_result"
    }
   ],
   "source": [
    "filas_nulas_synopsis = MAL_df_clean[MAL_df_clean['synopsis'].isnull()]\n",
    "filas_nulas_synopsis.head()"
   ]
  },
  {
   "cell_type": "code",
   "execution_count": 39,
   "metadata": {},
   "outputs": [
    {
     "name": "stdout",
     "output_type": "stream",
     "text": [
      "N° de animes sin sinopsis: 78\n"
     ]
    }
   ],
   "source": [
    "print(f'N° de animes sin sinopsis:', len(filas_nulas_synopsis))"
   ]
  },
  {
   "cell_type": "code",
   "execution_count": 37,
   "metadata": {},
   "outputs": [
    {
     "name": "stdout",
     "output_type": "stream",
     "text": [
      "Promedio máximo del conjunto de animes sin sinopsis 7.78\n"
     ]
    }
   ],
   "source": [
    "print(f'Promedio máximo del conjunto de animes sin sinopsis', filas_nulas_synopsis['mean'].max())"
   ]
  },
  {
   "cell_type": "markdown",
   "metadata": {},
   "source": [
    "##### Dado que hay animes sin sinopsis, se podría contemplar un enfoque diferenciado. Por un lado, podríamos incluir todos los animes en el análisis, mientras que, por otro lado, podríamos centrarnos únicamente en aquellos que cuentan con sinopsis. Sin embargo, dado que hay 78 animes sin sinopsis y en análisis posteriores utilizaremos un umbral de calificación superior a 8, excluyendo así a estos animes, hemos decidido eliminarlos del conjunto de datos.\n",
    "#\n",
    "#\n",
    "#"
   ]
  },
  {
   "cell_type": "markdown",
   "metadata": {},
   "source": [
    "#\n",
    "## La Evolución Temporal de Calificaciones y Popularidad de los animes en MAL."
   ]
  },
  {
   "cell_type": "code",
   "execution_count": 46,
   "metadata": {},
   "outputs": [
    {
     "name": "stdout",
     "output_type": "stream",
     "text": [
      "N° de animes de cada conjunto: 597\n"
     ]
    }
   ],
   "source": [
    "'''\n",
    "Definimos umbral del promedio de calificaciones y en base a este umbral definiremos el de popularidad.\n",
    "Esto debido a que la variable de popularidad no suele ser un factor determinante al momento de definir\n",
    "sin un anime es de culto o no.\n",
    "'''\n",
    "\n",
    "umbral_calificacion_alta = 8.0\n",
    "umbral_popularidad_alta = 0\n",
    "\n",
    "while True:\n",
    "    animes_alta_calificacion = MAL_df_clean[MAL_df_clean['mean'] >= umbral_calificacion_alta]\n",
    "    animes_alta_popularidad = MAL_df_clean[MAL_df_clean['popularity'] <= umbral_popularidad_alta]\n",
    "    if len(animes_alta_calificacion) == len(animes_alta_popularidad):\n",
    "        umbral_popularidad_alta = umbral_popularidad_alta\n",
    "        break\n",
    "    else:\n",
    "        umbral_popularidad_alta += 1\n",
    "\n",
    "print(f'N° de animes de cada conjunto:', len(animes_alta_calificacion))"
   ]
  },
  {
   "cell_type": "code",
   "execution_count": 47,
   "metadata": {},
   "outputs": [
    {
     "name": "stdout",
     "output_type": "stream",
     "text": [
      "N° de animes destacados:  262\n"
     ]
    }
   ],
   "source": [
    "# Unimos los conjuntos de animes filtrados posteriormente, para obtener entre ambos, animes \n",
    "# que se destaquen en MAL y posiblemente potenciales candidatos a ser animes de culto.\n",
    "animes_destacados = pd.merge(animes_alta_calificacion, animes_alta_popularidad, how='inner')\n",
    "print(f'N° de animes destacados: ', len(animes_destacados))"
   ]
  },
  {
   "cell_type": "code",
   "execution_count": 50,
   "metadata": {},
   "outputs": [
    {
     "data": {
      "image/png": "[encoded data removed]",
      "text/plain": [
       "<Figure size 864x432 with 1 Axes>"
      ]
     },
     "metadata": {
      "needs_background": "light"
     },
     "output_type": "display_data"
    }
   ],
   "source": [
    "# Gráfico para evaluar la evolución temporal\n",
    "plt.figure(figsize=(12, 6))\n",
    "sns.scatterplot(x='start_date', y='mean', data=animes_destacados, marker='o', label='Calificación Media')\n",
    "plt.title('Evolución Temporal de Animes Destacados')\n",
    "plt.xlabel('Fecha de inicio')\n",
    "plt.ylabel('Calificación Media')\n",
    "plt.legend()\n",
    "plt.show()"
   ]
  },
  {
   "cell_type": "markdown",
   "metadata": {},
   "source": [
    "##### Al analizar el scatterplot, notamos que una considerable cantidad de los animes destacados tienen fechas de inicio cercanas a la actualidad. Sin embargo, es crucial destacar que la condición de 'anime de culto' está estrechamente vinculada con la longevidad, así como el impacto que el anime pueda tener en la sociedad y la conexión que logre establecer con la audiencia. Por lo tanto, no podemos basarnos exclusivamente en aquellos con una calificación promedio más alta o con fechas de inicio antiguas, ya que ambos aspectos deben converger para que un anime sea considerado de culto. Por otro lado, la gráfica proporciona una visión general de la distribución temporal de estos animes destacados, lo que nos ayuda a identificar posibles candidatos.\n",
    "#\n",
    "#\n",
    "# "
   ]
  },
  {
   "cell_type": "markdown",
   "metadata": {},
   "source": [
    "#\n",
    "## Exploración de Animes a través de las Listas de Usuarios"
   ]
  },
  {
   "cell_type": "code",
   "execution_count": 70,
   "metadata": {},
   "outputs": [],
   "source": [
    "animes_destacados_por_listas = MAL_df_clean.sort_values(by='num_list_users', ascending=False)"
   ]
  },
  {
   "cell_type": "code",
   "execution_count": 67,
   "metadata": {},
   "outputs": [
    {
     "data": {
      "image/png": "[encoded data removed]",
      "text/plain": [
       "<Figure size 864x576 with 1 Axes>"
      ]
     },
     "metadata": {},
     "output_type": "display_data"
    }
   ],
   "source": [
    "sns.set(style=\"whitegrid\")\n",
    "\n",
    "# Creamos el gráfico de barras\n",
    "plt.figure(figsize=(12, 8))\n",
    "barplot = sns.barplot(x='num_list_users', y='title', data=animes_destacados_por_listas.head(30), palette='viridis')\n",
    "plt.title('Top 30 Animes por Número de Usuarios en Listas')\n",
    "plt.xlabel('Número de Usuarios en Listas')\n",
    "plt.ylabel('Título del Anime')\n",
    "plt.show()"
   ]
  }
 ],
 "metadata": {
  "kernelspec": {
   "display_name": "Python 3",
   "language": "python",
   "name": "python3"
  },
  "language_info": {
   "codemirror_mode": {
    "name": "ipython",
    "version": 3
   },
   "file_extension": ".py",
   "mimetype": "text/x-python",
   "name": "python",
   "nbconvert_exporter": "python",
   "pygments_lexer": "ipython3",
   "version": "3.10.11"
  }
 },
 "nbformat": 4,
 "nbformat_minor": 2
}
