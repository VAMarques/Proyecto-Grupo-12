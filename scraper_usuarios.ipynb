{
 "cells": [
  {
   "cell_type": "code",
   "execution_count": 1,
   "metadata": {},
   "outputs": [
    {
     "data": {
      "text/plain": [
       "865000"
      ]
     },
     "execution_count": 1,
     "metadata": {},
     "output_type": "execute_result"
    }
   ],
   "source": [
    "17300000//20"
   ]
  },
  {
   "cell_type": "markdown",
   "metadata": {},
   "source": [
    "# Imports"
   ]
  },
  {
   "cell_type": "code",
   "execution_count": null,
   "metadata": {},
   "outputs": [],
   "source": [
    "import pandas as pd\n",
    "import requests\n",
    "import numpy as np\n",
    "import json\n",
    "from bs4 import BeautifulSoup as bs\n",
    "import random\n",
    "import time\n",
    "import os"
   ]
  },
  {
   "cell_type": "markdown",
   "metadata": {},
   "source": [
    "# Scraper"
   ]
  },
  {
   "cell_type": "markdown",
   "metadata": {},
   "source": [
    "De MyAnimeList, sacaremos una muestra uniforme de 1000 usuarios en un cierto rango. 1000 por el\n",
    "rango (1, 865000); esta muestra irá de 1 a 1730000, con un total de 20000 usuarios."
   ]
  },
  {
   "cell_type": "code",
   "execution_count": 67,
   "metadata": {},
   "outputs": [],
   "source": [
    "\n",
    "\n",
    "def extraer_ids(archivo: str, rango_min, rango_max):\n",
    "    try:\n",
    "        with open(archivo, \"r\") as file:\n",
    "            dict_usuarios = json.load(file)\n",
    "    except FileNotFoundError:\n",
    "        dict_usuarios = {}\n",
    "    i = len(dict_usuarios)\n",
    "    while i<1000:\n",
    "        id_user = random.randint(rango_min, rango_max)\n",
    "        if str(id_user) in dict_usuarios or id_user in dict_usuarios:\n",
    "            time.sleep(6)\n",
    "            continue\n",
    "        sitio_user = requests.get(\n",
    "            url=\"https://myanimelist.net/comments.php\",\n",
    "            params={\"id\": id_user}\n",
    "        )\n",
    "        if sitio_user.status_code == 429: # Demasiadas peticiones\n",
    "            print(\"Demasiadas peticiones\")\n",
    "            time.sleep(120)\n",
    "            continue\n",
    "        elif sitio_user.status_code != 200: # Error desconocido\n",
    "            print(\"Error desconocido\")\n",
    "            print(sitio_user.status_code)\n",
    "            time.sleep(6)\n",
    "            continue\n",
    "        titulo = bs(sitio_user.content).find_all(\"title\")[0].contents[0].strip()\n",
    "        if titulo == '404 Not Found - MyAnimeList.net': # El usuario no existe\n",
    "            print(\"Error 404\")\n",
    "            time.sleep(6)\n",
    "            continue\n",
    "        username = titulo[:-29]\n",
    "        dict_usuarios[id_user] = username\n",
    "        i += 1\n",
    "        time.sleep(6)\n",
    "    with open(archivo, \"w\") as file:\n",
    "        json.dump(dict_usuarios, file, indent=2)"
   ]
  },
  {
   "cell_type": "code",
   "execution_count": null,
   "metadata": {},
   "outputs": [],
   "source": [
    "for i in range(1, 21):\n",
    "    extraer_ids((os.path.join(\"data\", f\"usuarios_{i}.json\")), 865000 * (i-1) + 1, 865000 * (i))"
   ]
  },
  {
   "cell_type": "code",
   "execution_count": 55,
   "metadata": {},
   "outputs": [
    {
     "data": {
      "text/plain": [
       "<Response [200]>"
      ]
     },
     "execution_count": 55,
     "metadata": {},
     "output_type": "execute_result"
    }
   ],
   "source": [
    "sitio_user = requests.get(\n",
    "    url=\"https://myanimelist.net/comments.php?id=388914\",\n",
    ")\n",
    "sitio_user"
   ]
  }
 ],
 "metadata": {
  "kernelspec": {
   "display_name": "Python 3",
   "language": "python",
   "name": "python3"
  },
  "language_info": {
   "codemirror_mode": {
    "name": "ipython",
    "version": 3
   },
   "file_extension": ".py",
   "mimetype": "text/x-python",
   "name": "python",
   "nbconvert_exporter": "python",
   "pygments_lexer": "ipython3",
   "version": "3.10.11"
  },
  "orig_nbformat": 4
 },
 "nbformat": 4,
 "nbformat_minor": 2
}
