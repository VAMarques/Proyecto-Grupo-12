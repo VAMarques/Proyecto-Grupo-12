{
 "cells": [
  {
   "cell_type": "markdown",
   "metadata": {},
   "source": [
    "# Import"
   ]
  },
  {
   "cell_type": "code",
   "execution_count": 1,
   "metadata": {},
   "outputs": [],
   "source": [
    "import pandas as pd\n",
    "import requests\n",
    "import numpy as np\n",
    "import json\n",
    "from bs4 import BeautifulSoup as bs\n",
    "import random\n",
    "import time\n",
    "import json\n",
    "import pickle\n",
    "\n",
    "from os.path import join\n",
    "from itertools import islice"
   ]
  },
  {
   "cell_type": "markdown",
   "metadata": {},
   "source": [
    "# Scraper"
   ]
  },
  {
   "cell_type": "markdown",
   "metadata": {},
   "source": [
    "Toma todos los animes a los cuales un usuario les ha dado rating, y luego encuentra sus detalles en MyAnimeList."
   ]
  },
  {
   "cell_type": "code",
   "execution_count": 2,
   "metadata": {},
   "outputs": [],
   "source": [
    "def extraer_animes(animes: set, head, parametros):\n",
    "    \"\"\"\n",
    "    animes debe ser un set con todos los ids de los animes que se quieran extraer.\n",
    "\n",
    "    Es recomendado guardar el output en pickles para ser compacto en el espacio.\n",
    "    \"\"\"\n",
    "    detalles_anime = {}\n",
    "    for anime in animes:\n",
    "        time.sleep(3)\n",
    "        detalles_anime[anime] = {}\n",
    "\n",
    "        while True:\n",
    "            try:\n",
    "                response = requests.get(\n",
    "                    url=f'https://api.myanimelist.net/v2/anime/{anime}',\n",
    "                    headers=head,\n",
    "                    params=parametros\n",
    "                )\n",
    "\n",
    "                # Manejar errores / Status codes.\n",
    "                if response.status_code == 429: # Demasiadas peticiones\n",
    "                    print(\"Demasiadas peticiones\")\n",
    "                    time.sleep(120)\n",
    "                    continue\n",
    "                elif response.status_code == 403: # prohibido.\n",
    "                    print(\"prohibido\")\n",
    "                    time.sleep(120)\n",
    "                    continue\n",
    "                elif response.status_code == 404: # No se encontro el anime.\n",
    "                    print(\"perdido\")\n",
    "                    break\n",
    "                elif (response.status_code // 100) == 5: # Error en el servidor.\n",
    "                    print(response.status_code)\n",
    "                    print(response.json())\n",
    "                    print(anime)\n",
    "                    time.sleep(120)\n",
    "                    continue\n",
    "                elif response.status_code != 200: # Error desconocido\n",
    "                    print(response.status_code)\n",
    "                    print(response.json())\n",
    "                    print(anime)\n",
    "                    time.sleep(120)\n",
    "                    continue\n",
    "                detalles_anime[anime][\"detalles\"] = response.json()\n",
    "                break\n",
    "            except KeyboardInterrupt: # Usuario saltado por algun error etc.\n",
    "                print(\"anime saltado\")\n",
    "                print(response.status_code)\n",
    "                print(response.json())\n",
    "                print(anime)\n",
    "                break\n",
    "            except ConnectionError:\n",
    "                print(\"Error de internet\")\n",
    "                print(anime)\n",
    "                time.sleep(300)\n",
    "                continue\n",
    "    # Estas listas idealmente deben ser guardadas en pickle para usar eficientemente el espacio.\n",
    "    return detalles_anime"
   ]
  },
  {
   "cell_type": "code",
   "execution_count": 3,
   "metadata": {},
   "outputs": [
    {
     "data": {
      "text/plain": [
       "8978"
      ]
     },
     "execution_count": 3,
     "metadata": {},
     "output_type": "execute_result"
    }
   ],
   "source": [
    "animes_unicos = set()\n",
    "\n",
    "for i in range(1, 21):\n",
    "    path = join(\"raw\", f\"listas_usuarios_{i}.pickle\")\n",
    "    with open(path, \"rb\") as archivo:\n",
    "        listas = pickle.load(archivo)\n",
    "    for user_id, value in listas.items():\n",
    "        name = value.pop(\"nombre\")\n",
    "        tipo = value.pop(\"tipo\")\n",
    "        if tipo != \"publica\":\n",
    "            continue\n",
    "        value = {x[0] for x in value.items() if (x[1][1] == 2) and (x[1][0] > 0)}\n",
    "        if len(value) == 0:\n",
    "            continue\n",
    "        animes_unicos = animes_unicos.union(value)\n",
    "len(animes_unicos)"
   ]
  },
  {
   "cell_type": "code",
   "execution_count": 4,
   "metadata": {},
   "outputs": [],
   "source": [
    "url_headers = {\n",
    "    \"accept\": \"application/json\",\n",
    "    \"X-MAL-CLIENT-ID\": \"dba80244ba88ffa1c4914806e9ccb3e4\"\n",
    "}\n",
    "\n",
    "animedetail_params = {\n",
    "    \"fields\": \"title,alternative_titles,start_date,end_date,synopsis,mean,rank,popularity,num_list_users,num_scoring_users,media_type,status,num_episodes,start_season,studios\",\n",
    "}"
   ]
  },
  {
   "cell_type": "code",
   "execution_count": 9,
   "metadata": {},
   "outputs": [],
   "source": [
    "cantidad = len(animes_unicos)\n",
    "\n",
    "for i in range(7, 21):\n",
    "    conj = set(islice(animes_unicos, ((i-1)*cantidad)//20, (i*cantidad)//20))\n",
    "    resultado = extraer_animes(conj, url_headers, animedetail_params)\n",
    "\n",
    "    path = join(\"raw\", f\"detalles_anime_{i}.pickle\")\n",
    "    with open(path, \"wb\") as archivo:\n",
    "        pickle.dump(resultado, archivo)"
   ]
  },
  {
   "cell_type": "code",
   "execution_count": 10,
   "metadata": {},
   "outputs": [],
   "source": [
    "for i in range(2, 7):\n",
    "    conj = set(islice(animes_unicos, ((i-1)*cantidad)//20, (i*cantidad)//20))\n",
    "    resultado = extraer_animes(conj, url_headers, animedetail_params)\n",
    "\n",
    "    path = join(\"raw\", f\"detalles_anime_{i}.pickle\")\n",
    "    with open(path, \"wb\") as archivo:\n",
    "        pickle.dump(resultado, archivo)"
   ]
  }
 ],
 "metadata": {
  "kernelspec": {
   "display_name": "Python 3",
   "language": "python",
   "name": "python3"
  },
  "language_info": {
   "codemirror_mode": {
    "name": "ipython",
    "version": 3
   },
   "file_extension": ".py",
   "mimetype": "text/x-python",
   "name": "python",
   "nbconvert_exporter": "python",
   "pygments_lexer": "ipython3",
   "version": "3.10.11"
  }
 },
 "nbformat": 4,
 "nbformat_minor": 2
}
