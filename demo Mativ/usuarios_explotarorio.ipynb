{
 "cells": [
  {
   "cell_type": "markdown",
   "metadata": {},
   "source": [
    "## EDA: Listas de usuarios\n",
    "####\n",
    "##### A continuación importamos las librerías que utilizaremos para el análisis."
   ]
  },
  {
   "cell_type": "code",
   "execution_count": 3,
   "metadata": {},
   "outputs": [],
   "source": [
    "import pandas as pd\n",
    "import requests\n",
    "import numpy as np\n",
    "import json\n",
    "from bs4 import BeautifulSoup as bs\n",
    "import random\n",
    "import time\n",
    "import os\n",
    "import json\n",
    "import pickle\n",
    "import matplotlib.pyplot as plt\n",
    "import seaborn as sns"
   ]
  },
  {
   "cell_type": "markdown",
   "metadata": {},
   "source": [
    "# Cargar datos"
   ]
  },
  {
   "cell_type": "markdown",
   "metadata": {},
   "source": [
    "##### Abrimos un archivo pickle que contiene las listas de reviews de una parte de los usuarios de MAL."
   ]
  },
  {
   "cell_type": "code",
   "execution_count": 4,
   "metadata": {},
   "outputs": [],
   "source": [
    "with open(os.path.join(\"data\", \"users_df.pickle\"), \"rb\") as archivo:\n",
    "    users_df = pickle.load(archivo)"
   ]
  },
  {
   "cell_type": "markdown",
   "metadata": {},
   "source": [
    "##### Al tener un conjunto de datos grandes con muchos valores nulos, para poder ahorrar memoria realizamos una conversión del DataFrame 'gran_df' a 'gran_df_sparse' utilizando el tipo de datos dispersos de Pandas. Aprovechando así la capacidad de los tipos de datos dispersos para manejar eficientemente este conjunto.\n",
    "####\n",
    "####"
   ]
  },
  {
   "cell_type": "code",
   "execution_count": 5,
   "metadata": {},
   "outputs": [
    {
     "data": {
      "text/html": [
       "<div>\n",
       "<style scoped>\n",
       "    .dataframe tbody tr th:only-of-type {\n",
       "        vertical-align: middle;\n",
       "    }\n",
       "\n",
       "    .dataframe tbody tr th {\n",
       "        vertical-align: top;\n",
       "    }\n",
       "\n",
       "    .dataframe thead th {\n",
       "        text-align: right;\n",
       "    }\n",
       "</style>\n",
       "<table border=\"1\" class=\"dataframe\">\n",
       "  <thead>\n",
       "    <tr style=\"text-align: right;\">\n",
       "      <th></th>\n",
       "      <th>39110:xxbladexx20</th>\n",
       "      <th>216949:haijuta</th>\n",
       "      <th>246587:d3athzero</th>\n",
       "      <th>107198:JayJay1401</th>\n",
       "      <th>45036:Seleare</th>\n",
       "      <th>4328:Joseph_</th>\n",
       "      <th>110895:Rudenick</th>\n",
       "      <th>93256:Moltke</th>\n",
       "      <th>160129:dander</th>\n",
       "      <th>256598:melandrea</th>\n",
       "      <th>...</th>\n",
       "      <th>16805797:iambabymango</th>\n",
       "      <th>16809902:Flopoflop</th>\n",
       "      <th>16791488:RhaenyraFR</th>\n",
       "      <th>16838607:SasOnator</th>\n",
       "      <th>17063891:Dezwhite05</th>\n",
       "      <th>17197026:dumb_zoro_</th>\n",
       "      <th>16617450:kotyboh</th>\n",
       "      <th>16459755:Tiberjuice</th>\n",
       "      <th>16965619:Watcher794_2</th>\n",
       "      <th>16656371:Aoto_uchiha10</th>\n",
       "    </tr>\n",
       "  </thead>\n",
       "  <tbody>\n",
       "    <tr>\n",
       "      <th>24</th>\n",
       "      <td>10.0</td>\n",
       "      <td>NaN</td>\n",
       "      <td>10.0</td>\n",
       "      <td>NaN</td>\n",
       "      <td>NaN</td>\n",
       "      <td>NaN</td>\n",
       "      <td>NaN</td>\n",
       "      <td>NaN</td>\n",
       "      <td>8.0</td>\n",
       "      <td>NaN</td>\n",
       "      <td>...</td>\n",
       "      <td>NaN</td>\n",
       "      <td>NaN</td>\n",
       "      <td>NaN</td>\n",
       "      <td>NaN</td>\n",
       "      <td>NaN</td>\n",
       "      <td>NaN</td>\n",
       "      <td>NaN</td>\n",
       "      <td>NaN</td>\n",
       "      <td>NaN</td>\n",
       "      <td>NaN</td>\n",
       "    </tr>\n",
       "    <tr>\n",
       "      <th>125</th>\n",
       "      <td>8.0</td>\n",
       "      <td>NaN</td>\n",
       "      <td>7.0</td>\n",
       "      <td>NaN</td>\n",
       "      <td>NaN</td>\n",
       "      <td>NaN</td>\n",
       "      <td>NaN</td>\n",
       "      <td>NaN</td>\n",
       "      <td>NaN</td>\n",
       "      <td>NaN</td>\n",
       "      <td>...</td>\n",
       "      <td>NaN</td>\n",
       "      <td>NaN</td>\n",
       "      <td>NaN</td>\n",
       "      <td>NaN</td>\n",
       "      <td>NaN</td>\n",
       "      <td>NaN</td>\n",
       "      <td>NaN</td>\n",
       "      <td>NaN</td>\n",
       "      <td>NaN</td>\n",
       "      <td>NaN</td>\n",
       "    </tr>\n",
       "    <tr>\n",
       "      <th>193</th>\n",
       "      <td>9.0</td>\n",
       "      <td>NaN</td>\n",
       "      <td>9.0</td>\n",
       "      <td>NaN</td>\n",
       "      <td>NaN</td>\n",
       "      <td>NaN</td>\n",
       "      <td>NaN</td>\n",
       "      <td>NaN</td>\n",
       "      <td>NaN</td>\n",
       "      <td>NaN</td>\n",
       "      <td>...</td>\n",
       "      <td>NaN</td>\n",
       "      <td>NaN</td>\n",
       "      <td>NaN</td>\n",
       "      <td>NaN</td>\n",
       "      <td>NaN</td>\n",
       "      <td>NaN</td>\n",
       "      <td>NaN</td>\n",
       "      <td>NaN</td>\n",
       "      <td>NaN</td>\n",
       "      <td>NaN</td>\n",
       "    </tr>\n",
       "    <tr>\n",
       "      <th>260</th>\n",
       "      <td>8.0</td>\n",
       "      <td>NaN</td>\n",
       "      <td>NaN</td>\n",
       "      <td>NaN</td>\n",
       "      <td>NaN</td>\n",
       "      <td>NaN</td>\n",
       "      <td>NaN</td>\n",
       "      <td>NaN</td>\n",
       "      <td>NaN</td>\n",
       "      <td>NaN</td>\n",
       "      <td>...</td>\n",
       "      <td>NaN</td>\n",
       "      <td>NaN</td>\n",
       "      <td>NaN</td>\n",
       "      <td>NaN</td>\n",
       "      <td>NaN</td>\n",
       "      <td>NaN</td>\n",
       "      <td>NaN</td>\n",
       "      <td>NaN</td>\n",
       "      <td>NaN</td>\n",
       "      <td>NaN</td>\n",
       "    </tr>\n",
       "    <tr>\n",
       "      <th>261</th>\n",
       "      <td>8.0</td>\n",
       "      <td>NaN</td>\n",
       "      <td>NaN</td>\n",
       "      <td>NaN</td>\n",
       "      <td>NaN</td>\n",
       "      <td>NaN</td>\n",
       "      <td>NaN</td>\n",
       "      <td>NaN</td>\n",
       "      <td>NaN</td>\n",
       "      <td>NaN</td>\n",
       "      <td>...</td>\n",
       "      <td>NaN</td>\n",
       "      <td>NaN</td>\n",
       "      <td>NaN</td>\n",
       "      <td>NaN</td>\n",
       "      <td>NaN</td>\n",
       "      <td>NaN</td>\n",
       "      <td>NaN</td>\n",
       "      <td>NaN</td>\n",
       "      <td>NaN</td>\n",
       "      <td>NaN</td>\n",
       "    </tr>\n",
       "    <tr>\n",
       "      <th>...</th>\n",
       "      <td>...</td>\n",
       "      <td>...</td>\n",
       "      <td>...</td>\n",
       "      <td>...</td>\n",
       "      <td>...</td>\n",
       "      <td>...</td>\n",
       "      <td>...</td>\n",
       "      <td>...</td>\n",
       "      <td>...</td>\n",
       "      <td>...</td>\n",
       "      <td>...</td>\n",
       "      <td>...</td>\n",
       "      <td>...</td>\n",
       "      <td>...</td>\n",
       "      <td>...</td>\n",
       "      <td>...</td>\n",
       "      <td>...</td>\n",
       "      <td>...</td>\n",
       "      <td>...</td>\n",
       "      <td>...</td>\n",
       "      <td>...</td>\n",
       "    </tr>\n",
       "    <tr>\n",
       "      <th>50575</th>\n",
       "      <td>NaN</td>\n",
       "      <td>NaN</td>\n",
       "      <td>NaN</td>\n",
       "      <td>NaN</td>\n",
       "      <td>NaN</td>\n",
       "      <td>NaN</td>\n",
       "      <td>NaN</td>\n",
       "      <td>NaN</td>\n",
       "      <td>NaN</td>\n",
       "      <td>NaN</td>\n",
       "      <td>...</td>\n",
       "      <td>NaN</td>\n",
       "      <td>NaN</td>\n",
       "      <td>NaN</td>\n",
       "      <td>NaN</td>\n",
       "      <td>NaN</td>\n",
       "      <td>NaN</td>\n",
       "      <td>NaN</td>\n",
       "      <td>NaN</td>\n",
       "      <td>NaN</td>\n",
       "      <td>NaN</td>\n",
       "    </tr>\n",
       "    <tr>\n",
       "      <th>50784</th>\n",
       "      <td>NaN</td>\n",
       "      <td>NaN</td>\n",
       "      <td>NaN</td>\n",
       "      <td>NaN</td>\n",
       "      <td>NaN</td>\n",
       "      <td>NaN</td>\n",
       "      <td>NaN</td>\n",
       "      <td>NaN</td>\n",
       "      <td>NaN</td>\n",
       "      <td>NaN</td>\n",
       "      <td>...</td>\n",
       "      <td>NaN</td>\n",
       "      <td>NaN</td>\n",
       "      <td>NaN</td>\n",
       "      <td>NaN</td>\n",
       "      <td>NaN</td>\n",
       "      <td>NaN</td>\n",
       "      <td>NaN</td>\n",
       "      <td>NaN</td>\n",
       "      <td>NaN</td>\n",
       "      <td>NaN</td>\n",
       "    </tr>\n",
       "    <tr>\n",
       "      <th>50973</th>\n",
       "      <td>NaN</td>\n",
       "      <td>NaN</td>\n",
       "      <td>NaN</td>\n",
       "      <td>NaN</td>\n",
       "      <td>NaN</td>\n",
       "      <td>NaN</td>\n",
       "      <td>NaN</td>\n",
       "      <td>NaN</td>\n",
       "      <td>NaN</td>\n",
       "      <td>NaN</td>\n",
       "      <td>...</td>\n",
       "      <td>NaN</td>\n",
       "      <td>NaN</td>\n",
       "      <td>NaN</td>\n",
       "      <td>NaN</td>\n",
       "      <td>NaN</td>\n",
       "      <td>NaN</td>\n",
       "      <td>NaN</td>\n",
       "      <td>NaN</td>\n",
       "      <td>NaN</td>\n",
       "      <td>NaN</td>\n",
       "    </tr>\n",
       "    <tr>\n",
       "      <th>56006</th>\n",
       "      <td>NaN</td>\n",
       "      <td>NaN</td>\n",
       "      <td>NaN</td>\n",
       "      <td>NaN</td>\n",
       "      <td>NaN</td>\n",
       "      <td>NaN</td>\n",
       "      <td>NaN</td>\n",
       "      <td>NaN</td>\n",
       "      <td>NaN</td>\n",
       "      <td>NaN</td>\n",
       "      <td>...</td>\n",
       "      <td>NaN</td>\n",
       "      <td>NaN</td>\n",
       "      <td>NaN</td>\n",
       "      <td>NaN</td>\n",
       "      <td>NaN</td>\n",
       "      <td>NaN</td>\n",
       "      <td>NaN</td>\n",
       "      <td>NaN</td>\n",
       "      <td>NaN</td>\n",
       "      <td>NaN</td>\n",
       "    </tr>\n",
       "    <tr>\n",
       "      <th>33183</th>\n",
       "      <td>NaN</td>\n",
       "      <td>NaN</td>\n",
       "      <td>NaN</td>\n",
       "      <td>NaN</td>\n",
       "      <td>NaN</td>\n",
       "      <td>NaN</td>\n",
       "      <td>NaN</td>\n",
       "      <td>NaN</td>\n",
       "      <td>NaN</td>\n",
       "      <td>NaN</td>\n",
       "      <td>...</td>\n",
       "      <td>NaN</td>\n",
       "      <td>NaN</td>\n",
       "      <td>NaN</td>\n",
       "      <td>NaN</td>\n",
       "      <td>NaN</td>\n",
       "      <td>NaN</td>\n",
       "      <td>NaN</td>\n",
       "      <td>NaN</td>\n",
       "      <td>NaN</td>\n",
       "      <td>NaN</td>\n",
       "    </tr>\n",
       "  </tbody>\n",
       "</table>\n",
       "<p>8978 rows × 7793 columns</p>\n",
       "</div>"
      ],
      "text/plain": [
       "       39110:xxbladexx20  216949:haijuta  246587:d3athzero  107198:JayJay1401  \\\n",
       "24                  10.0             NaN              10.0                NaN   \n",
       "125                  8.0             NaN               7.0                NaN   \n",
       "193                  9.0             NaN               9.0                NaN   \n",
       "260                  8.0             NaN               NaN                NaN   \n",
       "261                  8.0             NaN               NaN                NaN   \n",
       "...                  ...             ...               ...                ...   \n",
       "50575                NaN             NaN               NaN                NaN   \n",
       "50784                NaN             NaN               NaN                NaN   \n",
       "50973                NaN             NaN               NaN                NaN   \n",
       "56006                NaN             NaN               NaN                NaN   \n",
       "33183                NaN             NaN               NaN                NaN   \n",
       "\n",
       "       45036:Seleare  4328:Joseph_  110895:Rudenick  93256:Moltke  \\\n",
       "24               NaN           NaN              NaN           NaN   \n",
       "125              NaN           NaN              NaN           NaN   \n",
       "193              NaN           NaN              NaN           NaN   \n",
       "260              NaN           NaN              NaN           NaN   \n",
       "261              NaN           NaN              NaN           NaN   \n",
       "...              ...           ...              ...           ...   \n",
       "50575            NaN           NaN              NaN           NaN   \n",
       "50784            NaN           NaN              NaN           NaN   \n",
       "50973            NaN           NaN              NaN           NaN   \n",
       "56006            NaN           NaN              NaN           NaN   \n",
       "33183            NaN           NaN              NaN           NaN   \n",
       "\n",
       "       160129:dander  256598:melandrea  ...  16805797:iambabymango  \\\n",
       "24               8.0               NaN  ...                    NaN   \n",
       "125              NaN               NaN  ...                    NaN   \n",
       "193              NaN               NaN  ...                    NaN   \n",
       "260              NaN               NaN  ...                    NaN   \n",
       "261              NaN               NaN  ...                    NaN   \n",
       "...              ...               ...  ...                    ...   \n",
       "50575            NaN               NaN  ...                    NaN   \n",
       "50784            NaN               NaN  ...                    NaN   \n",
       "50973            NaN               NaN  ...                    NaN   \n",
       "56006            NaN               NaN  ...                    NaN   \n",
       "33183            NaN               NaN  ...                    NaN   \n",
       "\n",
       "       16809902:Flopoflop  16791488:RhaenyraFR  16838607:SasOnator  \\\n",
       "24                    NaN                  NaN                 NaN   \n",
       "125                   NaN                  NaN                 NaN   \n",
       "193                   NaN                  NaN                 NaN   \n",
       "260                   NaN                  NaN                 NaN   \n",
       "261                   NaN                  NaN                 NaN   \n",
       "...                   ...                  ...                 ...   \n",
       "50575                 NaN                  NaN                 NaN   \n",
       "50784                 NaN                  NaN                 NaN   \n",
       "50973                 NaN                  NaN                 NaN   \n",
       "56006                 NaN                  NaN                 NaN   \n",
       "33183                 NaN                  NaN                 NaN   \n",
       "\n",
       "       17063891:Dezwhite05  17197026:dumb_zoro_  16617450:kotyboh  \\\n",
       "24                     NaN                  NaN               NaN   \n",
       "125                    NaN                  NaN               NaN   \n",
       "193                    NaN                  NaN               NaN   \n",
       "260                    NaN                  NaN               NaN   \n",
       "261                    NaN                  NaN               NaN   \n",
       "...                    ...                  ...               ...   \n",
       "50575                  NaN                  NaN               NaN   \n",
       "50784                  NaN                  NaN               NaN   \n",
       "50973                  NaN                  NaN               NaN   \n",
       "56006                  NaN                  NaN               NaN   \n",
       "33183                  NaN                  NaN               NaN   \n",
       "\n",
       "       16459755:Tiberjuice  16965619:Watcher794_2  16656371:Aoto_uchiha10  \n",
       "24                     NaN                    NaN                     NaN  \n",
       "125                    NaN                    NaN                     NaN  \n",
       "193                    NaN                    NaN                     NaN  \n",
       "260                    NaN                    NaN                     NaN  \n",
       "261                    NaN                    NaN                     NaN  \n",
       "...                    ...                    ...                     ...  \n",
       "50575                  NaN                    NaN                     NaN  \n",
       "50784                  NaN                    NaN                     NaN  \n",
       "50973                  NaN                    NaN                     NaN  \n",
       "56006                  NaN                    NaN                     NaN  \n",
       "33183                  NaN                    NaN                     NaN  \n",
       "\n",
       "[8978 rows x 7793 columns]"
      ]
     },
     "execution_count": 5,
     "metadata": {},
     "output_type": "execute_result"
    }
   ],
   "source": [
    "users_df"
   ]
  },
  {
   "cell_type": "markdown",
   "metadata": {},
   "source": [
    "##### A continuación creamos un histograma con los valores del DataFrame 'gran_df_sparse' con el objetivo de visualizar como se distribuyen las calificaciones e intentar identificar patrones o tendencias."
   ]
  },
  {
   "cell_type": "code",
   "execution_count": 472,
   "metadata": {},
   "outputs": [
    {
     "data": {
      "image/png": "[encoded data removed]",
      "text/plain": [
       "<Figure size 432x288 with 1 Axes>"
      ]
     },
     "metadata": {
      "needs_background": "light"
     },
     "output_type": "display_data"
    }
   ],
   "source": [
    "plt.hist(gran_df_sparse.values.flatten(), bins=10, color='skyblue', edgecolor='black')\n",
    "plt.title('Distribución de Ratings de Animes')\n",
    "plt.xlabel('Rating')\n",
    "plt.ylabel('Frecuencia')\n",
    "plt.show()"
   ]
  },
  {
   "cell_type": "code",
   "execution_count": 473,
   "metadata": {},
   "outputs": [],
   "source": [
    "# Obtenemos un DataFrame unidimensional con el número visualizaciones por anime\n",
    "visualizaciones_anime = gran_df_sparse.notnull().sum(axis=1)"
   ]
  },
  {
   "cell_type": "code",
   "execution_count": 474,
   "metadata": {},
   "outputs": [
    {
     "name": "stdout",
     "output_type": "stream",
     "text": [
      "Máximas visualizaciones de un anime: 303\n",
      "Mínimas visualizaciones de un anime: 1\n"
     ]
    }
   ],
   "source": [
    "print(f'Máximas visualizaciones de un anime:', visualizaciones_anime.max())\n",
    "print(f'Mínimas visualizaciones de un anime:', visualizaciones_anime.min())"
   ]
  },
  {
   "cell_type": "code",
   "execution_count": 475,
   "metadata": {},
   "outputs": [
    {
     "name": "stdout",
     "output_type": "stream",
     "text": [
      "Máximo promedio de calificaciones de un anime: 10.0\n",
      "Mínimo promedio de calificaciones de un anime: 1.0\n"
     ]
    }
   ],
   "source": [
    "# Obtenemos un DataFrame unidimensional con el promedio de calificaciones por anime\n",
    "promedio_calificaciones = gran_df_sparse.mean(axis=1, skipna=True)\n",
    "print(f'Máximo promedio de calificaciones de un anime:', promedio_calificaciones.max())\n",
    "print(f'Mínimo promedio de calificaciones de un anime:', promedio_calificaciones.min())"
   ]
  },
  {
   "cell_type": "code",
   "execution_count": 476,
   "metadata": {},
   "outputs": [
    {
     "name": "stdout",
     "output_type": "stream",
     "text": [
      "Máximo nivel de dispersión de calificaciones de un anime: 6.363961030678928\n",
      "Mínimo nivel de dispersión de calificaciones de un anime: 0.0\n"
     ]
    }
   ],
   "source": [
    "# Obtenemos un DataFrame unidimensional con la desviación estándar de calificaciones de cada anime\n",
    "dispersion_calificaciones = gran_df_sparse.sparse.to_dense().std(axis=1, skipna=True)\n",
    "print(f'Máximo nivel de dispersión de calificaciones de un anime:', dispersion_calificaciones.max())\n",
    "print(f'Mínimo nivel de dispersión de calificaciones de un anime:', dispersion_calificaciones.min())\n"
   ]
  },
  {
   "cell_type": "code",
   "execution_count": 487,
   "metadata": {},
   "outputs": [],
   "source": [
    "# Teniendo los máximos y minimos de cada medida, podemos establecer un rango para la posterior\n",
    "# segmentación del conjunto de datos\n",
    "rango_visualizaciones_anime = [1, 50, 100, 150, 303]\n",
    "rango_promedio_calificaciones = [1, 5, 7, 10]\n",
    "rango_dispersion_calificaciones = [0, 2, 4, 6.5]"
   ]
  },
  {
   "cell_type": "code",
   "execution_count": 488,
   "metadata": {},
   "outputs": [],
   "source": [
    "segmentos_df = pd.DataFrame(index=gran_df_sparse.index)  \n",
    "\n",
    "# Creamos columnas de segmentación\n",
    "gran_df_sparse['Nivel_Popularidad'] = pd.cut(visualizaciones_anime, bins=rango_visualizaciones_anime, labels=['Poco', 'Moderado', 'Bastante', 'Mucho'])\n",
    "gran_df_sparse['Nivel_Prom_Calificaciones'] = pd.cut(promedio_calificaciones, bins=rango_promedio_calificaciones, labels=['Bajo', 'Medio', 'Alto'])\n",
    "gran_df_sparse['Nivel_Dispersion_Calificaciones'] = pd.cut(dispersion_calificaciones, bins=rango_dispersion_calificaciones, labels=['Baja', 'Media', 'Alta'])\n"
   ]
  },
  {
   "cell_type": "code",
   "execution_count": 489,
   "metadata": {},
   "outputs": [],
   "source": [
    "gran_df_sparse = pd.concat([gran_df_sparse, segmentos_df], axis=1)"
   ]
  },
  {
   "cell_type": "code",
   "execution_count": 490,
   "metadata": {},
   "outputs": [
    {
     "data": {
      "text/html": [
       "<div>\n",
       "<style scoped>\n",
       "    .dataframe tbody tr th:only-of-type {\n",
       "        vertical-align: middle;\n",
       "    }\n",
       "\n",
       "    .dataframe tbody tr th {\n",
       "        vertical-align: top;\n",
       "    }\n",
       "\n",
       "    .dataframe thead th {\n",
       "        text-align: right;\n",
       "    }\n",
       "</style>\n",
       "<table border=\"1\" class=\"dataframe\">\n",
       "  <thead>\n",
       "    <tr style=\"text-align: right;\">\n",
       "      <th></th>\n",
       "      <th>Nivel_Popularidad</th>\n",
       "      <th>Nivel_Prom_Calificaciones</th>\n",
       "      <th>Nivel_Dispersion_Calificaciones</th>\n",
       "    </tr>\n",
       "  </thead>\n",
       "  <tbody>\n",
       "    <tr>\n",
       "      <th>30</th>\n",
       "      <td>Bastante</td>\n",
       "      <td>Alto</td>\n",
       "      <td>Baja</td>\n",
       "    </tr>\n",
       "    <tr>\n",
       "      <th>47</th>\n",
       "      <td>Moderado</td>\n",
       "      <td>Alto</td>\n",
       "      <td>Baja</td>\n",
       "    </tr>\n",
       "    <tr>\n",
       "      <th>71</th>\n",
       "      <td>Poco</td>\n",
       "      <td>Alto</td>\n",
       "      <td>Baja</td>\n",
       "    </tr>\n",
       "    <tr>\n",
       "      <th>72</th>\n",
       "      <td>Poco</td>\n",
       "      <td>Alto</td>\n",
       "      <td>Baja</td>\n",
       "    </tr>\n",
       "    <tr>\n",
       "      <th>170</th>\n",
       "      <td>Poco</td>\n",
       "      <td>Alto</td>\n",
       "      <td>Baja</td>\n",
       "    </tr>\n",
       "  </tbody>\n",
       "</table>\n",
       "</div>"
      ],
      "text/plain": [
       "    Nivel_Popularidad Nivel_Prom_Calificaciones  \\\n",
       "30           Bastante                      Alto   \n",
       "47           Moderado                      Alto   \n",
       "71               Poco                      Alto   \n",
       "72               Poco                      Alto   \n",
       "170              Poco                      Alto   \n",
       "\n",
       "    Nivel_Dispersion_Calificaciones  \n",
       "30                             Baja  \n",
       "47                             Baja  \n",
       "71                             Baja  \n",
       "72                             Baja  \n",
       "170                            Baja  "
      ]
     },
     "execution_count": 490,
     "metadata": {},
     "output_type": "execute_result"
    }
   ],
   "source": [
    "gran_df_sparse[['Nivel_Popularidad', 'Nivel_Prom_Calificaciones', 'Nivel_Dispersion_Calificaciones']].head()"
   ]
  },
  {
   "cell_type": "code",
   "execution_count": 492,
   "metadata": {},
   "outputs": [
    {
     "data": {
      "image/png": "[encoded data removed]",
      "text/plain": [
       "<Figure size 720x432 with 1 Axes>"
      ]
     },
     "metadata": {
      "needs_background": "light"
     },
     "output_type": "display_data"
    }
   ],
   "source": [
    "# Gráfico de barras para clasificar los animes en base a su popularidad\n",
    "plt.figure(figsize=(10, 6))\n",
    "sns.countplot(x='Nivel_Popularidad', data=gran_df_sparse, palette='viridis')\n",
    "plt.title('Clasificación de Animes por su grado de Popularidad')\n",
    "plt.xlabel('Grado de popularidad')\n",
    "plt.ylabel('N° de Animes')\n",
    "plt.show()"
   ]
  },
  {
   "cell_type": "markdown",
   "metadata": {},
   "source": [
    "Esta gráfica muestra como la mayor parte de los animes de la muestra tomada de MAL tienen poca visualización, y solo una ínfima parte posee un grado de popularidad alto, sin embargo, cabe aclarar que cuando el gráfico se refiere a grado de popularidad, esta popularidad hace referencia a la 'fama' o la visualización de un anime, no se basa en conjunto con las calificaciones de cada usuario.\n",
    "####\n",
    "####"
   ]
  },
  {
   "cell_type": "code",
   "execution_count": 495,
   "metadata": {},
   "outputs": [
    {
     "data": {
      "image/png": "[encoded data removed]",
      "text/plain": [
       "<Figure size 720x432 with 1 Axes>"
      ]
     },
     "metadata": {
      "needs_background": "light"
     },
     "output_type": "display_data"
    }
   ],
   "source": [
    "# Gráfico de barras para clasificar los animes en base a su grado de calificaciones\n",
    "plt.figure(figsize=(10, 6))\n",
    "sns.countplot(x='Nivel_Prom_Calificaciones', data=gran_df_sparse, palette='viridis')\n",
    "plt.title('Clasificación de Anime por su promedio de calificaciones')\n",
    "plt.xlabel('Promedio de calificaciones')\n",
    "plt.ylabel('N° de Animes')\n",
    "plt.show()"
   ]
  },
  {
   "cell_type": "markdown",
   "metadata": {},
   "source": [
    "En un primer vistazo, podría parecer que esta gráfica carece de coherencia. ¿Cómo es posible que tantos animes obtengan calificaciones tan elevadas cuando la gráfica anterior indicaba que muy pocos eran visualizados por los usuarios? No obstante, debemos tener en cuenta que esta gráfica se basa exclusivamente en las calificaciones otorgadas por los usuarios a cada anime. Una parte significativa de ese extenso conjunto de animes con baja popularidad en la gráfica anterior puede trasladarse al grupo de aquellos con un alto promedio de calificaciones. Esto se debe a que, al tener menos revisiones, cada una de estas puede provocar un cambio significativo en el promedio de calificaciones del anime.\n",
    "####\n",
    "####"
   ]
  },
  {
   "cell_type": "code",
   "execution_count": 498,
   "metadata": {},
   "outputs": [
    {
     "data": {
      "image/png": "[encoded data removed]",
      "text/plain": [
       "<Figure size 720x432 with 1 Axes>"
      ]
     },
     "metadata": {
      "needs_background": "light"
     },
     "output_type": "display_data"
    }
   ],
   "source": [
    "# Gráfico de barras para clasificar los animes en base a su grado de calificaciones\n",
    "plt.figure(figsize=(10, 6))\n",
    "sns.countplot(x='Nivel_Dispersion_Calificaciones', data=gran_df_sparse, palette='viridis')\n",
    "plt.title('Clasificación de Anime por su grado de dispersion en las calificaciones')\n",
    "plt.xlabel('Dispersión en las calificaciones')\n",
    "plt.ylabel('N° de Animes')\n",
    "plt.show()"
   ]
  },
  {
   "cell_type": "markdown",
   "metadata": {},
   "source": [
    "Este gráfico, al mostrar que la mayoría de los animes tienen un bajo grado de dispersión en torno a sus calificaciones, sugiere una consistencia en las evaluaciones. Esto implica que los espectadores tienden a estar de acuerdo en sus opiniones sobre estos animes. Además, la baja dispersión indica una menor polarización entre los usuarios, lo que significa que hay menos variabilidad en las opiniones de la audiencia. Esta uniformidad podría deberse a que la audiencia comparte opiniones más similares sobre estos animes en comparación con otros que podrían generar opiniones más polarizadas.\n",
    "\n",
    "Sin embargo, es importante señalar que es inusual observar una baja dispersión al mismo tiempo que hay una baja cantidad de calificaciones por anime, sin que esto afecte la dispersión. Este fenómeno podría atribuirse a varios factores, como la falta de diversidad en la audiencia o un sesgo en la misma. Es decir, la audiencia podría tener preferencias similares o específicas que resultan en calificaciones más consistentes.\n",
    "####\n",
    "####"
   ]
  },
  {
   "cell_type": "code",
   "execution_count": null,
   "metadata": {},
   "outputs": [],
   "source": []
  }
 ],
 "metadata": {
  "kernelspec": {
   "display_name": "Python 3",
   "language": "python",
   "name": "python3"
  },
  "language_info": {
   "codemirror_mode": {
    "name": "ipython",
    "version": 3
   },
   "file_extension": ".py",
   "mimetype": "text/x-python",
   "name": "python",
   "nbconvert_exporter": "python",
   "pygments_lexer": "ipython3",
   "version": "3.10.11"
  },
  "orig_nbformat": 4
 },
 "nbformat": 4,
 "nbformat_minor": 2
}
