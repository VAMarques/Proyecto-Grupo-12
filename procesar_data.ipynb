{
 "cells": [
  {
   "cell_type": "markdown",
   "metadata": {},
   "source": [
    "# Imports"
   ]
  },
  {
   "cell_type": "code",
   "execution_count": null,
   "metadata": {},
   "outputs": [],
   "source": [
    "import pandas as pd\n",
    "import numpy as np\n",
    "import os\n",
    "import pickle\n",
    "\n",
    "# Usado en ronda 1, 2 de relacionar animes.\n",
    "import re\n",
    "# Usado en ronda 3 de relacionar.\n",
    "from difflib import SequenceMatcher"
   ]
  },
  {
   "cell_type": "markdown",
   "metadata": {},
   "source": [
    "# Combinar data de Web-Scraping y Api en archivos unicos."
   ]
  },
  {
   "cell_type": "markdown",
   "metadata": {},
   "source": [
    "Las series de archivos que se combinaran son los siguientes\n",
    "\n",
    "Con i entre 1 y 20:\n",
    "\n",
    "1. listas_usuarios_i.pickle\n",
    "2. detalles_anime_i.pickle\n",
    "3. tags_anime_i.pickle\n",
    "\n",
    "Usuarios_i.json no se combinaran, pues estos solo sirven para generar listas_usuarios_i.pickle"
   ]
  },
  {
   "cell_type": "markdown",
   "metadata": {},
   "source": [
    "# Relacionar MyAnimeList con AnimePlanet\n",
    "\n",
    "El proposito de este proceso es combinar las id's de MyAnimeList con los nombres de AnimePlanet.\n",
    "\n",
    "El proceso sigue 3 rondas.\n",
    "\n",
    "1. Busca todos los titulos en los detalles del anime de MyAnimeList, luego busca si encuentra alguno de ellos en Animeplanet\n",
    "\n",
    "2. Compara todos los titulos de MyAnimeList con todos los titulos de Animeplanet.\n",
    "\n",
    "3. Si eso falla, se hara a fuerza bruta encontrar el titulo mas similar, este proceso puede tardar mas de una hora. Y si el titulo es muy disimilar, entonces no se considerara.\n",
    "\n",
    "4. Al final, el restante deberia ser suficientemente chico como para revisar a mano.\n",
    "\n",
    "5. Despues de eso, deberia ser necesario revisar que no hayan quedado duplicados, en cuyo caso hay que arreglarlos"
   ]
  },
  {
   "cell_type": "code",
   "execution_count": null,
   "metadata": {},
   "outputs": [
    {
     "data": {
      "text/html": [
       "<div>\n",
       "<style scoped>\n",
       "    .dataframe tbody tr th:only-of-type {\n",
       "        vertical-align: middle;\n",
       "    }\n",
       "\n",
       "    .dataframe tbody tr th {\n",
       "        vertical-align: top;\n",
       "    }\n",
       "\n",
       "    .dataframe thead th {\n",
       "        text-align: right;\n",
       "    }\n",
       "</style>\n",
       "<table border=\"1\" class=\"dataframe\">\n",
       "  <thead>\n",
       "    <tr style=\"text-align: right;\">\n",
       "      <th></th>\n",
       "      <th>Anime</th>\n",
       "      <th>URL</th>\n",
       "      <th>Tags</th>\n",
       "      <th>Alts</th>\n",
       "    </tr>\n",
       "  </thead>\n",
       "  <tbody>\n",
       "    <tr>\n",
       "      <th>0</th>\n",
       "      <td>Attack on Titan The Final Season: The Final Ch...</td>\n",
       "      <td>https://www.anime-planet.com/anime/attack-on-t...</td>\n",
       "      <td>[Action, Drama, Fantasy, Shounen, Dark Fantasy...</td>\n",
       "      <td>\\r\\nAlt titles: Attack on Titan The Final Seas...</td>\n",
       "    </tr>\n",
       "    <tr>\n",
       "      <th>1</th>\n",
       "      <td>Fullmetal Alchemist: Brotherhood</td>\n",
       "      <td>https://www.anime-planet.com/anime/fullmetal-a...</td>\n",
       "      <td>[Action, Adventure, Drama, Fantasy, Mystery, S...</td>\n",
       "      <td>\\r\\nAlt title: Hagane no Renkinjutsushi: Full ...</td>\n",
       "    </tr>\n",
       "    <tr>\n",
       "      <th>2</th>\n",
       "      <td>Fruits Basket the Final Season</td>\n",
       "      <td>https://www.anime-planet.com/anime/fruits-bask...</td>\n",
       "      <td>[Drama, Fantasy, Romance, Shoujo, Animal Trans...</td>\n",
       "      <td>\\r\\nAlt title: Fruits Basket the Final\\r\\n</td>\n",
       "    </tr>\n",
       "  </tbody>\n",
       "</table>\n",
       "</div>"
      ],
      "text/plain": [
       "                                               Anime  \\\n",
       "0  Attack on Titan The Final Season: The Final Ch...   \n",
       "1                   Fullmetal Alchemist: Brotherhood   \n",
       "2                     Fruits Basket the Final Season   \n",
       "\n",
       "                                                 URL  \\\n",
       "0  https://www.anime-planet.com/anime/attack-on-t...   \n",
       "1  https://www.anime-planet.com/anime/fullmetal-a...   \n",
       "2  https://www.anime-planet.com/anime/fruits-bask...   \n",
       "\n",
       "                                                Tags  \\\n",
       "0  [Action, Drama, Fantasy, Shounen, Dark Fantasy...   \n",
       "1  [Action, Adventure, Drama, Fantasy, Mystery, S...   \n",
       "2  [Drama, Fantasy, Romance, Shoujo, Animal Trans...   \n",
       "\n",
       "                                                Alts  \n",
       "0  \\r\\nAlt titles: Attack on Titan The Final Seas...  \n",
       "1  \\r\\nAlt title: Hagane no Renkinjutsushi: Full ...  \n",
       "2         \\r\\nAlt title: Fruits Basket the Final\\r\\n  "
      ]
     },
     "metadata": {},
     "output_type": "display_data"
    }
   ],
   "source": [
    "all_anime_df = pd.DataFrame()\n",
    "# tags = pd.read_csv(os.path.join(\"data\", \"tags_anime_1.pickle\"))\n",
    "\n",
    "for i in range(1, 21):\n",
    "    tags = pd.read_csv(os.path.join(\"data\", f\"tags_anime_{i}.pickle\"))\n",
    "    all_anime_df = pd.concat([all_anime_df, tags])\n",
    "all_anime_df.reset_index(drop=True, inplace=True)\n",
    "\n",
    "# Convertir tags a una lista\n",
    "all_anime_df[\"Tags\"] = all_anime_df[\"Tags\"].apply(lambda x: [x.strip(\"'\") for x in x.lstrip(\"[\").rstrip(\"]\").split(\", \")])\n",
    "all_anime_df.head(3)"
   ]
  },
  {
   "cell_type": "code",
   "execution_count": null,
   "metadata": {},
   "outputs": [
    {
     "name": "stdout",
     "output_type": "stream",
     "text": [
      "c:\\repos\\datos\\Proyecto\\Proyecto-Grupo-12\n",
      "c:\\repos\\datos\\Proyecto\\Proyecto-Grupo-12\\demo Mativ\n",
      "c:\\repos\\datos\\Proyecto\\Proyecto-Grupo-12\n",
      "c:\\repos\\datos\\Proyecto\\Proyecto-Grupo-12\\demo Victor\n"
     ]
    }
   ],
   "source": [
    "%cd ..\n",
    "%cd demo Mativ\n",
    "all_anime_df = pd.read_csv(os.path.join(\"data\", \"tags_anime.csv\"))\n",
    "%cd ..\n",
    "%cd demo Victor"
   ]
  },
  {
   "cell_type": "code",
   "execution_count": null,
   "metadata": {},
   "outputs": [],
   "source": [
    "detalles_anime = {}\n",
    "for i in range(1, 21):\n",
    "    path = os.path.join(\"data\", f\"detalles_anime_{i}.pickle\")\n",
    "    with open(path, \"rb\") as archivo:\n",
    "        detalles_anime = detalles_anime | pickle.load(archivo)"
   ]
  },
  {
   "cell_type": "markdown",
   "metadata": {},
   "source": [
    "## Ronda 1"
   ]
  },
  {
   "cell_type": "code",
   "execution_count": null,
   "metadata": {},
   "outputs": [
    {
     "data": {
      "text/html": [
       "<div>\n",
       "<style scoped>\n",
       "    .dataframe tbody tr th:only-of-type {\n",
       "        vertical-align: middle;\n",
       "    }\n",
       "\n",
       "    .dataframe tbody tr th {\n",
       "        vertical-align: top;\n",
       "    }\n",
       "\n",
       "    .dataframe thead th {\n",
       "        text-align: right;\n",
       "    }\n",
       "</style>\n",
       "<table border=\"1\" class=\"dataframe\">\n",
       "  <thead>\n",
       "    <tr style=\"text-align: right;\">\n",
       "      <th></th>\n",
       "      <th>Anime</th>\n",
       "      <th>URL</th>\n",
       "      <th>MAL_ID</th>\n",
       "    </tr>\n",
       "  </thead>\n",
       "  <tbody>\n",
       "    <tr>\n",
       "      <th>112</th>\n",
       "      <td>Cowboy Bebop</td>\n",
       "      <td>https://www.anime-planet.com/anime/cowboy-bebop</td>\n",
       "      <td>1</td>\n",
       "    </tr>\n",
       "    <tr>\n",
       "      <th>13925</th>\n",
       "      <td>Puzzle &amp; Dragons X</td>\n",
       "      <td>https://www.anime-planet.com/anime/puzzle-and-...</td>\n",
       "      <td>32772</td>\n",
       "    </tr>\n",
       "    <tr>\n",
       "      <th>353</th>\n",
       "      <td>Cowboy Bebop: The Movie</td>\n",
       "      <td>https://www.anime-planet.com/anime/cowboy-bebo...</td>\n",
       "      <td>5</td>\n",
       "    </tr>\n",
       "    <tr>\n",
       "      <th>422</th>\n",
       "      <td>Trigun</td>\n",
       "      <td>https://www.anime-planet.com/anime/trigun</td>\n",
       "      <td>6</td>\n",
       "    </tr>\n",
       "    <tr>\n",
       "      <th>4663</th>\n",
       "      <td>Witch Hunter Robin</td>\n",
       "      <td>https://www.anime-planet.com/anime/witch-hunte...</td>\n",
       "      <td>7</td>\n",
       "    </tr>\n",
       "    <tr>\n",
       "      <th>...</th>\n",
       "      <td>...</td>\n",
       "      <td>...</td>\n",
       "      <td>...</td>\n",
       "    </tr>\n",
       "    <tr>\n",
       "      <th>3827</th>\n",
       "      <td>Girls und Panzer der Film: Arisu War!</td>\n",
       "      <td>https://www.anime-planet.com/anime/girls-und-p...</td>\n",
       "      <td>32740</td>\n",
       "    </tr>\n",
       "    <tr>\n",
       "      <th>959</th>\n",
       "      <td>Dragon Ball Super</td>\n",
       "      <td>https://www.anime-planet.com/anime/dragon-ball...</td>\n",
       "      <td>30694</td>\n",
       "    </tr>\n",
       "    <tr>\n",
       "      <th>13023</th>\n",
       "      <td>Pop in Q</td>\n",
       "      <td>https://www.anime-planet.com/anime/pop-in-q</td>\n",
       "      <td>30695</td>\n",
       "    </tr>\n",
       "    <tr>\n",
       "      <th>2427</th>\n",
       "      <td>The Guardian Brothers</td>\n",
       "      <td>https://www.anime-planet.com/anime/the-guardia...</td>\n",
       "      <td>32751</td>\n",
       "    </tr>\n",
       "    <tr>\n",
       "      <th>17587</th>\n",
       "      <td>Makura no Danshi</td>\n",
       "      <td>https://www.anime-planet.com/anime/makura-no-d...</td>\n",
       "      <td>30705</td>\n",
       "    </tr>\n",
       "  </tbody>\n",
       "</table>\n",
       "<p>6781 rows × 3 columns</p>\n",
       "</div>"
      ],
      "text/plain": [
       "                                       Anime  \\\n",
       "112                             Cowboy Bebop   \n",
       "13925                     Puzzle & Dragons X   \n",
       "353                  Cowboy Bebop: The Movie   \n",
       "422                                   Trigun   \n",
       "4663                      Witch Hunter Robin   \n",
       "...                                      ...   \n",
       "3827   Girls und Panzer der Film: Arisu War!   \n",
       "959                        Dragon Ball Super   \n",
       "13023                               Pop in Q   \n",
       "2427                   The Guardian Brothers   \n",
       "17587                       Makura no Danshi   \n",
       "\n",
       "                                                     URL  MAL_ID  \n",
       "112      https://www.anime-planet.com/anime/cowboy-bebop       1  \n",
       "13925  https://www.anime-planet.com/anime/puzzle-and-...   32772  \n",
       "353    https://www.anime-planet.com/anime/cowboy-bebo...       5  \n",
       "422            https://www.anime-planet.com/anime/trigun       6  \n",
       "4663   https://www.anime-planet.com/anime/witch-hunte...       7  \n",
       "...                                                  ...     ...  \n",
       "3827   https://www.anime-planet.com/anime/girls-und-p...   32740  \n",
       "959    https://www.anime-planet.com/anime/dragon-ball...   30694  \n",
       "13023        https://www.anime-planet.com/anime/pop-in-q   30695  \n",
       "2427   https://www.anime-planet.com/anime/the-guardia...   32751  \n",
       "17587  https://www.anime-planet.com/anime/makura-no-d...   30705  \n",
       "\n",
       "[6781 rows x 3 columns]"
      ]
     },
     "metadata": {},
     "output_type": "display_data"
    }
   ],
   "source": [
    "dummy_df = all_anime_df.copy()\n",
    "dummy_df[\"Anime\"] = dummy_df[\"Anime\"].str.lower()\n",
    "dummy_df[\"Anime\"] = dummy_df[\"Anime\"].str.replace(r\"[^a-zA-Z0-9]\", \"\", regex=True)\n",
    "\n",
    "pd.options.mode.chained_assignment = None  # default='warn'\n",
    "\n",
    "titulos_1 = pd.DataFrame()\n",
    "not_found = {}\n",
    "for anime_id, value in detalles_anime.items():\n",
    "    details = value[\"detalles\"]\n",
    "    lista_titulos = [details[\"title\"]] + (details[\"alternative_titles\"][\"synonyms\"]) + [(details[\"alternative_titles\"][\"en\"])]\n",
    "    for titulo in lista_titulos:\n",
    "        titulo_plano = re.sub(\"[^a-zA-Z0-9]\", \"\", titulo.lower())\n",
    "        if not titulo_plano:\n",
    "            continue\n",
    "        mini = all_anime_df[dummy_df[\"Anime\"] == titulo_plano]\n",
    "        if not mini.empty:\n",
    "            break\n",
    "    else: # No se encontro el anime\n",
    "        not_found[anime_id] = lista_titulos\n",
    "        continue\n",
    "    mini[\"MAL_ID\"] = anime_id\n",
    "    titulos_1 = pd.concat([titulos_1, mini])\n",
    "    \n",
    "path = os.path.join(\"research\", \"titulos_1.csv\")\n",
    "titulos_1.to_csv(path, index=False)\n",
    "\n",
    "titulos_1"
   ]
  },
  {
   "cell_type": "markdown",
   "metadata": {},
   "source": [
    "## Ronda 2"
   ]
  },
  {
   "cell_type": "code",
   "execution_count": null,
   "metadata": {},
   "outputs": [
    {
     "data": {
      "text/plain": [
       "2274"
      ]
     },
     "metadata": {},
     "output_type": "display_data"
    }
   ],
   "source": [
    "some_anime_df = all_anime_df[~all_anime_df.index.isin(titulos_1.index)]\n",
    "\n",
    "dummy_df_2 = some_anime_df.copy()\n",
    "dummy_df_2[\"Anime\"] = dummy_df_2[\"Anime\"].str.lower()\n",
    "dummy_df_2[\"Anime\"] = dummy_df_2[\"Anime\"].str.replace(r\"[^a-zA-Z0-9]\", \"\", regex=True)\n",
    "\n",
    "dummy_df_2[\"Alts\"].fillna(\"\", inplace=True)\n",
    "dummy_df_2[\"Alts\"] = all_anime_df[\"Alts\"].apply(lambda x: x.strip(\"\\r\\n\"))\n",
    "dummy_df_2[\"Alts\"] = dummy_df_2[\"Alts\"].apply(lambda x: x.replace(\"Alt title: \", \"\").replace(\"Alt titles: \", \"\").split(\", \"))\n",
    "\n",
    "not_found_2 = {}\n",
    "titulos_2 = pd.DataFrame()\n",
    "\n",
    "for anime_id, value in not_found.items():\n",
    "    details = value[\"detalles\"]\n",
    "    lista_titulos = [details[\"title\"]] + (details[\"alternative_titles\"][\"synonyms\"]) + [(details[\"alternative_titles\"][\"en\"])]\n",
    "\n",
    "    for titulo in lista_titulos:\n",
    "        # Se busca el titulo mas parecido\n",
    "        titulo_plano = re.sub(\"[^a-zA-Z0-9]\", \"\", titulo.lower())\n",
    "        if not titulo_plano:\n",
    "            continue\n",
    "        mini = some_anime_df[dummy_df_2[\"Alts\"].apply(lambda x: titulo_plano in x)]\n",
    "        if not mini.empty:\n",
    "            break\n",
    "    else: # No se encontro el anime\n",
    "        not_found[anime_id] = lista_titulos\n",
    "        continue\n",
    "    mini[\"MAL_ID\"] = anime_id\n",
    "    titulos_2 = pd.concat([titulos_2, mini])\n",
    "\n",
    "path = os.path.join(\"research\", \"titulos_2.csv\")\n",
    "titulos_2.to_csv(path, index=False)\n",
    "\n",
    "titulos_2"
   ]
  },
  {
   "cell_type": "markdown",
   "metadata": {},
   "source": [
    "## Ronda 3"
   ]
  },
  {
   "cell_type": "code",
   "execution_count": null,
   "metadata": {},
   "outputs": [],
   "source": [
    "# dataframe de all_anime_df sin titulos\n",
    "last_anime_df = all_anime_df[~((all_anime_df.index.isin(titulos_1.index)) | (all_anime_df.index.isin(titulos_2.index)))]\n",
    "\n",
    "dummy_df_3 = last_anime_df.copy()\n",
    "dummy_df_3[\"Anime\"] = dummy_df_3[\"Anime\"].str.lower()\n",
    "\n",
    "not_found_3 = {}\n",
    "\n",
    "titulos_3 = pd.DataFrame()\n",
    "\n",
    "for anime_id, value in not_found.items():\n",
    "    details = value[\"detalles\"]\n",
    "    lista_titulos = [details[\"title\"]] + (details[\"alternative_titles\"][\"synonyms\"]) + [(details[\"alternative_titles\"][\"en\"])]\n",
    "\n",
    "    max_score = 0\n",
    "    max_score_id = None\n",
    "    for titulo in lista_titulos:\n",
    "        # Se busca el titulo mas parecido\n",
    "        ratios = dummy_df_3[\"Anime\"].apply(lambda x: SequenceMatcher(None, x, titulo.lower()).ratio())\n",
    "\n",
    "        score_id = ratios.idxmax()\n",
    "        score = ratios[score_id]\n",
    "    \n",
    "        if score > max_score:\n",
    "            max_score = score\n",
    "            max_score_id = score_id\n",
    "    if max_score < 0.7:\n",
    "        print(anime_id, lista_titulos, max_score)\n",
    "        not_found_3[anime_id] = lista_titulos\n",
    "        continue\n",
    "    mini = last_anime_df.loc[[max_score_id]]\n",
    "    mini[\"MAL_ID\"] = anime_id\n",
    "    titulos_2 = pd.concat([titulos_2, mini])\n",
    "path = os.path.join(\"research\", \"titulos_3.csv\")\n",
    "titulos_3.to_csv(path, index=False)"
   ]
  },
  {
   "cell_type": "markdown",
   "metadata": {},
   "source": [
    "# Crear dataframe de ratings de usuarios"
   ]
  },
  {
   "cell_type": "markdown",
   "metadata": {},
   "source": []
  }
 ],
 "metadata": {
  "language_info": {
   "name": "python"
  },
  "orig_nbformat": 4
 },
 "nbformat": 4,
 "nbformat_minor": 2
}
